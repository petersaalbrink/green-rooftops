{
 "cells": [
  {
   "cell_type": "markdown",
   "metadata": {},
   "source": [
    "# Tree Space"
   ]
  },
  {
   "cell_type": "markdown",
   "metadata": {},
   "source": [
    "Arbor Day Foundation recommends for a medium tree a minimum of 15 feet (= 4.5m) distance from walls."
   ]
  },
  {
   "cell_type": "markdown",
   "metadata": {},
   "source": [
    "https://www.arborday.org/trees/righttreeandplace/size.cfm"
   ]
  },
  {
   "cell_type": "markdown",
   "metadata": {},
   "source": [
    "Kansas Forests recommends 6 feet (1.8m) distance between small deciduous trees. "
   ]
  },
  {
   "cell_type": "markdown",
   "metadata": {},
   "source": [
    "https://www.kansasforests.org/conservation_trees/careandtips/spacing.html"
   ]
  },
  {
   "cell_type": "markdown",
   "metadata": {},
   "source": [
    "The best known packings of equal circles in a circle\n",
    "http://hydra.nat.uni-magdeburg.de/packing/cci/cci.html"
   ]
  },
  {
   "cell_type": "code",
   "execution_count": 99,
   "metadata": {},
   "outputs": [
    {
     "data": {
      "text/plain": [
       "2.4384"
      ]
     },
     "execution_count": 99,
     "metadata": {},
     "output_type": "execute_result"
    }
   ],
   "source": [
    "f_to_m(8)"
   ]
  },
  {
   "cell_type": "code",
   "execution_count": 98,
   "metadata": {},
   "outputs": [
    {
     "data": {
      "text/plain": [
       "38173.69906129534"
      ]
     },
     "execution_count": 98,
     "metadata": {},
     "output_type": "execute_result"
    }
   ],
   "source": [
    "n = 4\n",
    "omrekenfactor = f_to_m(8) / df.at[n, 'r'] \n",
    "\n",
    "r = omrekenfactor * f_to_m(8)\n",
    "\n",
    "R = pi * (r * sqrt(n))**2\n",
    "R = pi * sqrt(n * (r)**2)\n",
    "\n",
    "s = (R + sqrt(2 * omrekenfactor**2))\n",
    "pi * s**2"
   ]
  },
  {
   "cell_type": "code",
   "execution_count": 45,
   "metadata": {},
   "outputs": [
    {
     "data": {
      "text/plain": [
       "117.36528031469832"
      ]
     },
     "execution_count": 45,
     "metadata": {},
     "output_type": "execute_result"
    }
   ],
   "source": [
    "from math import pi, sqrt\n",
    "import pandas as pd\n",
    "df = pd.read_csv('C:/Users/PSaalbrink/Downloads/radius.txt', sep=' ')\n",
    "\n",
    "def f_to_m(f):\n",
    "    '''From feet to meter'''\n",
    "    return f * 0.3048\n",
    "\n",
    "\n",
    "def opp_mf(n=4, r=f_to_m(8), R=f_to_m(20)):\n",
    "    '''Returns area for 1 tiny-forest\n",
    "    n is the number of trees\n",
    "    R is the distance from the tree to wall or street\n",
    "    r is the distance between trees'''\n",
    "    return pi * sqrt(n * (opp_b(r))**2)\n",
    "#     return pi * (opp_b(r) * sqrt(n))**2\n",
    "#     return sqrt(n * pi * opp_b(R))\n",
    "#     s = (R + sqrt(2 * r**2))\n",
    "#     return pi * s**2\n",
    "#     return (n * (pi * (R + sqrt(2 * r**2))**2)) / 4\n",
    "\n",
    "\n",
    "def opp_b(s=f_to_m(8)):\n",
    "    '''area for single tree\n",
    "    s is the distance from tree to surroundings'''\n",
    "    return pi * s**2\n",
    "\n",
    "opp_mf(4)"
   ]
  },
  {
   "cell_type": "code",
   "execution_count": 41,
   "metadata": {},
   "outputs": [
    {
     "data": {
      "text/plain": [
       "116.74540318406348"
      ]
     },
     "execution_count": 41,
     "metadata": {},
     "output_type": "execute_result"
    }
   ],
   "source": [
    "4 * 1.5625 * opp_b()"
   ]
  },
  {
   "cell_type": "code",
   "execution_count": 39,
   "metadata": {},
   "outputs": [
    {
     "data": {
      "text/plain": [
       "1.5625"
      ]
     },
     "execution_count": 39,
     "metadata": {},
     "output_type": "execute_result"
    }
   ],
   "source": [
    "((f_to_m(20)/f_to_m(8))**2)/4"
   ]
  },
  {
   "cell_type": "markdown",
   "metadata": {},
   "source": [
    "## Small trees"
   ]
  },
  {
   "cell_type": "code",
   "execution_count": 23,
   "metadata": {},
   "outputs": [
    {
     "data": {
      "text/plain": [
       "79.31814088920984"
      ]
     },
     "execution_count": 23,
     "metadata": {},
     "output_type": "execute_result"
    }
   ],
   "source": [
    "# micro-forest\n",
    "opp_mf(f_to_m(6),f_to_m(8))"
   ]
  },
  {
   "cell_type": "code",
   "execution_count": 26,
   "metadata": {},
   "outputs": [
    {
     "data": {
      "text/plain": [
       "10.507086286565716"
      ]
     },
     "execution_count": 26,
     "metadata": {},
     "output_type": "execute_result"
    }
   ],
   "source": [
    "# boom\n",
    "opp_b(f_to_m(6))"
   ]
  },
  {
   "cell_type": "markdown",
   "metadata": {},
   "source": [
    "## Medium trees"
   ]
  },
  {
   "cell_type": "code",
   "execution_count": 25,
   "metadata": {},
   "outputs": [
    {
     "data": {
      "text/plain": [
       "180.95095264813054"
      ]
     },
     "execution_count": 25,
     "metadata": {},
     "output_type": "execute_result"
    }
   ],
   "source": [
    "# micro-forest\n",
    "opp_mf(f_to_m(7),f_to_m(15))"
   ]
  },
  {
   "cell_type": "code",
   "execution_count": 27,
   "metadata": {},
   "outputs": [
    {
     "data": {
      "text/plain": [
       "14.301311890047776"
      ]
     },
     "execution_count": 27,
     "metadata": {},
     "output_type": "execute_result"
    }
   ],
   "source": [
    "# boom\n",
    "opp_b(f_to_m(7))"
   ]
  },
  {
   "cell_type": "markdown",
   "metadata": {},
   "source": [
    "## Large trees"
   ]
  },
  {
   "cell_type": "code",
   "execution_count": 18,
   "metadata": {},
   "outputs": [
    {
     "data": {
      "text/plain": [
       "286.186278225058"
      ]
     },
     "execution_count": 18,
     "metadata": {},
     "output_type": "execute_result"
    }
   ],
   "source": [
    "# micro-forest\n",
    "opp_mf(f_to_m(8),f_to_m(20))"
   ]
  },
  {
   "cell_type": "code",
   "execution_count": 28,
   "metadata": {},
   "outputs": [
    {
     "data": {
      "text/plain": [
       "18.679264509450157"
      ]
     },
     "execution_count": 28,
     "metadata": {},
     "output_type": "execute_result"
    }
   ],
   "source": [
    "# boom\n",
    "opp_b(f_to_m(8))"
   ]
  }
 ],
 "metadata": {
  "kernelspec": {
   "display_name": "Python 3",
   "language": "python",
   "name": "python3"
  },
  "language_info": {
   "codemirror_mode": {
    "name": "ipython",
    "version": 3
   },
   "file_extension": ".py",
   "mimetype": "text/x-python",
   "name": "python",
   "nbconvert_exporter": "python",
   "pygments_lexer": "ipython3",
   "version": "3.7.1"
  }
 },
 "nbformat": 4,
 "nbformat_minor": 2
}
