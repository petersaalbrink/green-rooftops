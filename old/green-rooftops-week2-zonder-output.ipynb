{
 "cells": [
  {
   "cell_type": "markdown",
   "metadata": {},
   "source": [
    "# Definities"
   ]
  },
  {
   "cell_type": "code",
   "execution_count": 1,
   "metadata": {},
   "outputs": [],
   "source": [
    "# Basis\n",
    "import numpy as np\n",
    "import pandas as pd\n",
    "from math import floor, sqrt\n",
    "from statistics import mean\n",
    "from glob import glob\n",
    "import random\n",
    "import warnings; warnings.filterwarnings('ignore')\n",
    "\n",
    "# Geo\n",
    "import geopandas as gp\n",
    "from geopandas import GeoDataFrame, GeoSeries, sjoin\n",
    "import shapely\n",
    "from shapely import wkt\n",
    "from shapely.geometry import Point, Polygon, MultiPolygon, LineString\n",
    "import shapely.speedups; shapely.speedups.enable()\n",
    "\n",
    "# Plot\n",
    "import matplotlib.pyplot as plt\n",
    "import matplotlib.patches as patches\n",
    "import matplotlib.colors\n",
    "import matplotlib.animation as animation"
   ]
  },
  {
   "cell_type": "markdown",
   "metadata": {},
   "source": [
    "Er worden verschillende coördinatenreferentiesystemen aangehouden in de gebruikte data. Er moeten ook berekeningen gedaan kunnen worden op de geometrieën (dit kan met cea en lambert). Tot slot kiezen we voor een Amersfoortprojectie voor de kaarten, maar Mercator levert ongeveer hetzelfde eindresultaat. "
   ]
  },
  {
   "cell_type": "code",
   "execution_count": 2,
   "metadata": {},
   "outputs": [],
   "source": [
    "# Definieer projecties\n",
    "crs = {'init': 'epsg:4326'}          # Standaard WGS84\n",
    "amersfoort = {'init': 'epsg:28992'}  # Rijkscoördinatendriehoek\n",
    "cea = {'proj':'cea'}                 # Equal area\n",
    "mercator = {'init': 'epsg:3395'}     # Mercatorprojectie\n",
    "lambert = {'init': 'epsg:3035'}      # Lambert Azimuthal Equal Area projection"
   ]
  },
  {
   "cell_type": "code",
   "execution_count": 3,
   "metadata": {},
   "outputs": [],
   "source": [
    "# Oppervlakte van een microbosje (4 bomen)\n",
    "tiny_forest_area = 80  # m²\n",
    "\n",
    "# Oppervlaktes van bomen (m²)\n",
    "kleine_boom = 10.5\n",
    "middel_boom = 14.3\n",
    "grote_boom = 18.7\n",
    "\n",
    "# Type bomen, gebaseerd op boomhoogte\n",
    "lage_bomen = ['tot 6 m', '6-9 m', '9-12 m', 'Onbekend']\n",
    "midd_bomen = ['12-15 m', '15-18 m']\n",
    "hoge_bomen = ['18-24 m', '24 m en hoger']"
   ]
  },
  {
   "cell_type": "markdown",
   "metadata": {},
   "source": [
    "Definieer een aantal functies die voor ons GeoDataFrames maken"
   ]
  },
  {
   "cell_type": "code",
   "execution_count": 8,
   "metadata": {},
   "outputs": [],
   "source": [
    "\n",
    "def to_crs(gdf, crs_out=amersfoort):\n",
    "    '''Returns a GeoDataFrame with coordinates projected as specified (default epsg:28992)'''\n",
    "    gdf = gdf.to_crs(crs_out)  # Use geopandas built-in method\n",
    "    gdf.crs = crs_out  # Set CRS property as well, just to be sure\n",
    "    return gdf\n",
    "\n",
    "\n",
    "def create_gdf(df, crs_in=crs, crs_out=amersfoort):\n",
    "    '''Accepts a DataFrame with a specified CRS (default epsg:4326), \n",
    "    and returns a re-projected GeoDataFrame (default epsg:28992)'''\n",
    "    \n",
    "    # Transform geometries that are in the wrong format \n",
    "    if df.geometry.str.contains('POINT')\n",
    "    df['geometry'] = df.geometry.str.replace(',', ' ')\n",
    "    \n",
    "    # Transform geometry from text, create GeoDataFrame, and re-project to crs_out\n",
    "    gdf = GeoDataFrame(df, crs=crs_in, geometry=df.geometry.apply(wkt.loads))\n",
    "    return to_crs(gdf, crs_out)\n",
    "\n",
    "\n",
    "def import_csv(csv, crs_in=crs, crs_out=amersfoort):\n",
    "    '''Accepts a csv file and returns a GeoDataFrame'''\n",
    "    df = pd.read_csv(csv, dtype=str, sep=';').drop(columns=['OBJECTNUMMER', 'WKT_LAT_LNG', 'LNG', 'LAT'])\n",
    "    df = df[df.columns.drop(df.filter(regex='Unnamed').columns)].rename(columns={'WKT_LNG_LAT':'geometry'})\n",
    "    return create_gdf(df, crs_in, crs_out)\n",
    "\n",
    "\n",
    "def calc_area(gdf, m=False, crs_out=amersfoort):\n",
    "    '''Adds a new column to a GeoDataFrame that contains the surface area in km² (or m² if m=True) of its geometries'''\n",
    "    gdf = to_crs(gdf, cea)  # Use equal areas to make area calculations\n",
    "    if not m:\n",
    "        m = 10**6  # Re-calculate to km²\n",
    "    gdf['oppervlakte'] = gdf.geometry.area / m\n",
    "    return to_crs(gdf, crs_out)\n",
    "\n"
   ]
  },
  {
   "cell_type": "markdown",
   "metadata": {},
   "source": [
    "# Gebieden\n",
    "\n",
    "We importeren hier .csv-bestanden (epsg:4326) van de Gemeente Amsterdam (https://maps.amsterdam.nl/open_geodata/?LANG=nl)."
   ]
  },
  {
   "cell_type": "code",
   "execution_count": 9,
   "metadata": {},
   "outputs": [
    {
     "name": "stderr",
     "output_type": "stream",
     "text": [
      "ParseException: Expected word but encountered number: '4.89258'\n"
     ]
    },
    {
     "ename": "WKTReadingError",
     "evalue": "Could not create geometry because of errors while reading input.",
     "output_type": "error",
     "traceback": [
      "\u001b[1;31m---------------------------------------------------------------------------\u001b[0m",
      "\u001b[1;31mWKTReadingError\u001b[0m                           Traceback (most recent call last)",
      "\u001b[1;32m<ipython-input-9-c6ee6dd695b2>\u001b[0m in \u001b[0;36m<module>\u001b[1;34m\u001b[0m\n\u001b[0;32m      1\u001b[0m \u001b[1;31m# Importeer stadsdelen\u001b[0m\u001b[1;33m\u001b[0m\u001b[1;33m\u001b[0m\u001b[1;33m\u001b[0m\u001b[0m\n\u001b[1;32m----> 2\u001b[1;33m \u001b[0msd\u001b[0m \u001b[1;33m=\u001b[0m \u001b[0mimport_csv\u001b[0m\u001b[1;33m(\u001b[0m\u001b[1;34m'data/020/GEBIED_STADSDELEN_EXWATER.csv'\u001b[0m\u001b[1;33m)\u001b[0m\u001b[1;33m\u001b[0m\u001b[1;33m\u001b[0m\u001b[0m\n\u001b[0m\u001b[0;32m      3\u001b[0m \u001b[0msd\u001b[0m \u001b[1;33m=\u001b[0m \u001b[0mcalc_area\u001b[0m\u001b[1;33m(\u001b[0m\u001b[0msd\u001b[0m\u001b[1;33m)\u001b[0m  \u001b[1;31m# Voeg een kolom toe met oppervlakte per stadsdeel\u001b[0m\u001b[1;33m\u001b[0m\u001b[1;33m\u001b[0m\u001b[0m\n\u001b[0;32m      4\u001b[0m \u001b[1;33m\u001b[0m\u001b[0m\n\u001b[0;32m      5\u001b[0m \u001b[1;31m# Importeer buurten\u001b[0m\u001b[1;33m\u001b[0m\u001b[1;33m\u001b[0m\u001b[1;33m\u001b[0m\u001b[0m\n",
      "\u001b[1;32m<ipython-input-8-eba39a037fe2>\u001b[0m in \u001b[0;36mimport_csv\u001b[1;34m(csv, crs_in, crs_out)\u001b[0m\n\u001b[0;32m     23\u001b[0m     \u001b[0mdf\u001b[0m \u001b[1;33m=\u001b[0m \u001b[0mpd\u001b[0m\u001b[1;33m.\u001b[0m\u001b[0mread_csv\u001b[0m\u001b[1;33m(\u001b[0m\u001b[0mcsv\u001b[0m\u001b[1;33m,\u001b[0m \u001b[0mdtype\u001b[0m\u001b[1;33m=\u001b[0m\u001b[0mstr\u001b[0m\u001b[1;33m,\u001b[0m \u001b[0msep\u001b[0m\u001b[1;33m=\u001b[0m\u001b[1;34m';'\u001b[0m\u001b[1;33m)\u001b[0m\u001b[1;33m.\u001b[0m\u001b[0mdrop\u001b[0m\u001b[1;33m(\u001b[0m\u001b[0mcolumns\u001b[0m\u001b[1;33m=\u001b[0m\u001b[1;33m[\u001b[0m\u001b[1;34m'OBJECTNUMMER'\u001b[0m\u001b[1;33m,\u001b[0m \u001b[1;34m'WKT_LAT_LNG'\u001b[0m\u001b[1;33m,\u001b[0m \u001b[1;34m'LNG'\u001b[0m\u001b[1;33m,\u001b[0m \u001b[1;34m'LAT'\u001b[0m\u001b[1;33m]\u001b[0m\u001b[1;33m)\u001b[0m\u001b[1;33m\u001b[0m\u001b[1;33m\u001b[0m\u001b[0m\n\u001b[0;32m     24\u001b[0m     \u001b[0mdf\u001b[0m \u001b[1;33m=\u001b[0m \u001b[0mdf\u001b[0m\u001b[1;33m[\u001b[0m\u001b[0mdf\u001b[0m\u001b[1;33m.\u001b[0m\u001b[0mcolumns\u001b[0m\u001b[1;33m.\u001b[0m\u001b[0mdrop\u001b[0m\u001b[1;33m(\u001b[0m\u001b[0mdf\u001b[0m\u001b[1;33m.\u001b[0m\u001b[0mfilter\u001b[0m\u001b[1;33m(\u001b[0m\u001b[0mregex\u001b[0m\u001b[1;33m=\u001b[0m\u001b[1;34m'Unnamed'\u001b[0m\u001b[1;33m)\u001b[0m\u001b[1;33m.\u001b[0m\u001b[0mcolumns\u001b[0m\u001b[1;33m)\u001b[0m\u001b[1;33m]\u001b[0m\u001b[1;33m.\u001b[0m\u001b[0mrename\u001b[0m\u001b[1;33m(\u001b[0m\u001b[0mcolumns\u001b[0m\u001b[1;33m=\u001b[0m\u001b[1;33m{\u001b[0m\u001b[1;34m'WKT_LNG_LAT'\u001b[0m\u001b[1;33m:\u001b[0m\u001b[1;34m'geometry'\u001b[0m\u001b[1;33m}\u001b[0m\u001b[1;33m)\u001b[0m\u001b[1;33m\u001b[0m\u001b[1;33m\u001b[0m\u001b[0m\n\u001b[1;32m---> 25\u001b[1;33m     \u001b[1;32mreturn\u001b[0m \u001b[0mcreate_gdf\u001b[0m\u001b[1;33m(\u001b[0m\u001b[0mdf\u001b[0m\u001b[1;33m,\u001b[0m \u001b[0mcrs_in\u001b[0m\u001b[1;33m,\u001b[0m \u001b[0mcrs_out\u001b[0m\u001b[1;33m)\u001b[0m\u001b[1;33m\u001b[0m\u001b[1;33m\u001b[0m\u001b[0m\n\u001b[0m\u001b[0;32m     26\u001b[0m \u001b[1;33m\u001b[0m\u001b[0m\n\u001b[0;32m     27\u001b[0m \u001b[1;33m\u001b[0m\u001b[0m\n",
      "\u001b[1;32m<ipython-input-8-eba39a037fe2>\u001b[0m in \u001b[0;36mcreate_gdf\u001b[1;34m(df, crs_in, crs_out)\u001b[0m\n\u001b[0;32m     15\u001b[0m \u001b[1;33m\u001b[0m\u001b[0m\n\u001b[0;32m     16\u001b[0m     \u001b[1;31m# Transform geometry from text, create GeoDataFrame, and re-project to crs_out\u001b[0m\u001b[1;33m\u001b[0m\u001b[1;33m\u001b[0m\u001b[1;33m\u001b[0m\u001b[0m\n\u001b[1;32m---> 17\u001b[1;33m     \u001b[0mgdf\u001b[0m \u001b[1;33m=\u001b[0m \u001b[0mGeoDataFrame\u001b[0m\u001b[1;33m(\u001b[0m\u001b[0mdf\u001b[0m\u001b[1;33m,\u001b[0m \u001b[0mcrs\u001b[0m\u001b[1;33m=\u001b[0m\u001b[0mcrs_in\u001b[0m\u001b[1;33m,\u001b[0m \u001b[0mgeometry\u001b[0m\u001b[1;33m=\u001b[0m\u001b[0mdf\u001b[0m\u001b[1;33m.\u001b[0m\u001b[0mgeometry\u001b[0m\u001b[1;33m.\u001b[0m\u001b[0mapply\u001b[0m\u001b[1;33m(\u001b[0m\u001b[0mwkt\u001b[0m\u001b[1;33m.\u001b[0m\u001b[0mloads\u001b[0m\u001b[1;33m)\u001b[0m\u001b[1;33m)\u001b[0m\u001b[1;33m\u001b[0m\u001b[1;33m\u001b[0m\u001b[0m\n\u001b[0m\u001b[0;32m     18\u001b[0m     \u001b[1;32mreturn\u001b[0m \u001b[0mto_crs\u001b[0m\u001b[1;33m(\u001b[0m\u001b[0mgdf\u001b[0m\u001b[1;33m,\u001b[0m \u001b[0mcrs_out\u001b[0m\u001b[1;33m)\u001b[0m\u001b[1;33m\u001b[0m\u001b[1;33m\u001b[0m\u001b[0m\n\u001b[0;32m     19\u001b[0m \u001b[1;33m\u001b[0m\u001b[0m\n",
      "\u001b[1;32m~\\Anaconda3\\lib\\site-packages\\pandas\\core\\series.py\u001b[0m in \u001b[0;36mapply\u001b[1;34m(self, func, convert_dtype, args, **kwds)\u001b[0m\n\u001b[0;32m   3589\u001b[0m             \u001b[1;32melse\u001b[0m\u001b[1;33m:\u001b[0m\u001b[1;33m\u001b[0m\u001b[1;33m\u001b[0m\u001b[0m\n\u001b[0;32m   3590\u001b[0m                 \u001b[0mvalues\u001b[0m \u001b[1;33m=\u001b[0m \u001b[0mself\u001b[0m\u001b[1;33m.\u001b[0m\u001b[0mastype\u001b[0m\u001b[1;33m(\u001b[0m\u001b[0mobject\u001b[0m\u001b[1;33m)\u001b[0m\u001b[1;33m.\u001b[0m\u001b[0mvalues\u001b[0m\u001b[1;33m\u001b[0m\u001b[1;33m\u001b[0m\u001b[0m\n\u001b[1;32m-> 3591\u001b[1;33m                 \u001b[0mmapped\u001b[0m \u001b[1;33m=\u001b[0m \u001b[0mlib\u001b[0m\u001b[1;33m.\u001b[0m\u001b[0mmap_infer\u001b[0m\u001b[1;33m(\u001b[0m\u001b[0mvalues\u001b[0m\u001b[1;33m,\u001b[0m \u001b[0mf\u001b[0m\u001b[1;33m,\u001b[0m \u001b[0mconvert\u001b[0m\u001b[1;33m=\u001b[0m\u001b[0mconvert_dtype\u001b[0m\u001b[1;33m)\u001b[0m\u001b[1;33m\u001b[0m\u001b[1;33m\u001b[0m\u001b[0m\n\u001b[0m\u001b[0;32m   3592\u001b[0m \u001b[1;33m\u001b[0m\u001b[0m\n\u001b[0;32m   3593\u001b[0m         \u001b[1;32mif\u001b[0m \u001b[0mlen\u001b[0m\u001b[1;33m(\u001b[0m\u001b[0mmapped\u001b[0m\u001b[1;33m)\u001b[0m \u001b[1;32mand\u001b[0m \u001b[0misinstance\u001b[0m\u001b[1;33m(\u001b[0m\u001b[0mmapped\u001b[0m\u001b[1;33m[\u001b[0m\u001b[1;36m0\u001b[0m\u001b[1;33m]\u001b[0m\u001b[1;33m,\u001b[0m \u001b[0mSeries\u001b[0m\u001b[1;33m)\u001b[0m\u001b[1;33m:\u001b[0m\u001b[1;33m\u001b[0m\u001b[1;33m\u001b[0m\u001b[0m\n",
      "\u001b[1;32mpandas/_libs/lib.pyx\u001b[0m in \u001b[0;36mpandas._libs.lib.map_infer\u001b[1;34m()\u001b[0m\n",
      "\u001b[1;32m~\\Anaconda3\\lib\\site-packages\\shapely\\wkt.py\u001b[0m in \u001b[0;36mloads\u001b[1;34m(data)\u001b[0m\n\u001b[0;32m      8\u001b[0m \u001b[1;32mdef\u001b[0m \u001b[0mloads\u001b[0m\u001b[1;33m(\u001b[0m\u001b[0mdata\u001b[0m\u001b[1;33m)\u001b[0m\u001b[1;33m:\u001b[0m\u001b[1;33m\u001b[0m\u001b[1;33m\u001b[0m\u001b[0m\n\u001b[0;32m      9\u001b[0m     \u001b[1;34m\"\"\"Load a geometry from a WKT string.\"\"\"\u001b[0m\u001b[1;33m\u001b[0m\u001b[1;33m\u001b[0m\u001b[0m\n\u001b[1;32m---> 10\u001b[1;33m     \u001b[1;32mreturn\u001b[0m \u001b[0mgeos\u001b[0m\u001b[1;33m.\u001b[0m\u001b[0mWKTReader\u001b[0m\u001b[1;33m(\u001b[0m\u001b[0mgeos\u001b[0m\u001b[1;33m.\u001b[0m\u001b[0mlgeos\u001b[0m\u001b[1;33m)\u001b[0m\u001b[1;33m.\u001b[0m\u001b[0mread\u001b[0m\u001b[1;33m(\u001b[0m\u001b[0mdata\u001b[0m\u001b[1;33m)\u001b[0m\u001b[1;33m\u001b[0m\u001b[1;33m\u001b[0m\u001b[0m\n\u001b[0m\u001b[0;32m     11\u001b[0m \u001b[1;33m\u001b[0m\u001b[0m\n\u001b[0;32m     12\u001b[0m \u001b[1;32mdef\u001b[0m \u001b[0mload\u001b[0m\u001b[1;33m(\u001b[0m\u001b[0mfp\u001b[0m\u001b[1;33m)\u001b[0m\u001b[1;33m:\u001b[0m\u001b[1;33m\u001b[0m\u001b[1;33m\u001b[0m\u001b[0m\n",
      "\u001b[1;32m~\\Anaconda3\\lib\\site-packages\\shapely\\geos.py\u001b[0m in \u001b[0;36mread\u001b[1;34m(self, text)\u001b[0m\n\u001b[0;32m    252\u001b[0m         \u001b[1;32mif\u001b[0m \u001b[1;32mnot\u001b[0m \u001b[0mgeom\u001b[0m\u001b[1;33m:\u001b[0m\u001b[1;33m\u001b[0m\u001b[1;33m\u001b[0m\u001b[0m\n\u001b[0;32m    253\u001b[0m             raise WKTReadingError(\n\u001b[1;32m--> 254\u001b[1;33m                 \u001b[1;34m\"Could not create geometry because of errors \"\u001b[0m\u001b[1;33m\u001b[0m\u001b[1;33m\u001b[0m\u001b[0m\n\u001b[0m\u001b[0;32m    255\u001b[0m                 \"while reading input.\")\n\u001b[0;32m    256\u001b[0m         \u001b[1;31m# avoid circular import dependency\u001b[0m\u001b[1;33m\u001b[0m\u001b[1;33m\u001b[0m\u001b[1;33m\u001b[0m\u001b[0m\n",
      "\u001b[1;31mWKTReadingError\u001b[0m: Could not create geometry because of errors while reading input."
     ]
    }
   ],
   "source": [
    "# Importeer stadsdelen\n",
    "sd = import_csv('data/020/GEBIED_STADSDELEN_EXWATER.csv')\n",
    "sd = calc_area(sd)  # Voeg een kolom toe met oppervlakte per stadsdeel\n",
    "\n",
    "# Importeer buurten\n",
    "buurten = import_csv('data/020/GEBIED_BUURTEN_EXWATER.csv').rename(index=str, columns={'Buurt_code': 'Buurtcode'})\n",
    "buurten = buurten[buurten.Buurtcombinatie_code != 'N73']  # We laten de buurt Waterland buiten beschouwing"
   ]
  },
  {
   "cell_type": "markdown",
   "metadata": {},
   "source": [
    "# Bomen\n",
    "\n",
    "We importeren hier .csv-bestanden (espg:4326) van de Gemeente Amsterdam (https://maps.amsterdam.nl/open_geodata/?k=254)."
   ]
  },
  {
   "cell_type": "code",
   "execution_count": null,
   "metadata": {},
   "outputs": [],
   "source": [
    "# Importeren en samenvoegen van de vier .csv-bestanden\n",
    "bomen = pd.concat([pd.read_csv(file, sep=';', usecols=['Soortnaam_NL', 'Boomnummer', 'Boomtype', 'Boomhoogte', 'WKT_LNG_LAT']) \n",
    "                   for file in glob('data\\BOMEN*.csv')], axis=0, ignore_index=True).rename(columns={'WKT_LNG_LAT':'geometry'})\n",
    "\n",
    "# Elke boom heeft een aantal van 1, dit gebruiken we later\n",
    "bomen['aantal_bomen'] = 1\n",
    "\n",
    "# Kolom toevoegen met boomoppervlakte (in m²) op basis van de boomhoogte\n",
    "bomen['boomoppervlakte'] = np.where(bomen['Boomhoogte'].isin(lage_bomen), kleine_boom, \n",
    "                                    np.where(bomen['Boomhoogte'].isin(hoge_bomen), grote_boom, middel_boom))\n",
    "\n",
    "# Maak van bomen een fatsoenlijk GeoDataFrame\n",
    "bomen = create_gdf(bomen)  # crs=amersfoort, zie functie hierboven"
   ]
  },
  {
   "cell_type": "markdown",
   "metadata": {},
   "source": [
    "# Wegen\n",
    "\n",
    "We importeren hier .GeoJson-bestanden (epsg:28992), die met behulp van QGIS zijn omgezet vanuit .gml-bestanden uit de BGT (https://www.pdok.nl/downloads/-/article/basisregistratie-grootschalige-topografie-bgt-). "
   ]
  },
  {
   "cell_type": "code",
   "execution_count": null,
   "metadata": {},
   "outputs": [],
   "source": [
    "# Importeren van bermen\n",
    "gdf_berm = gp.read_file('C:/Users/PSaalbrink/Desktop/BGT/GeoJSON/bgt_ondersteunendwegdeel AuxiliaryTrafficArea.GeoJSON')[[\n",
    "    'gml_id', 'creationDate', 'function', 'surfaceMaterial', 'plus-fysiekVoorkomenOndersteunendWegdeel', 'geometry'\n",
    "]].rename(columns={'plus-fysiekVoorkomenOndersteunendWegdeel':'fysiekVoorkomenWegdeel'})  # crs=amersfoort"
   ]
  },
  {
   "cell_type": "code",
   "execution_count": null,
   "metadata": {},
   "outputs": [],
   "source": [
    "# Importeren van wegen\n",
    "gdf_weg = gp.read_file('C:/Users/PSaalbrink/Desktop/BGT/GeoJSON/bgt_wegdeel TrafficArea.GeoJSON')  # crs=amersfoort\n",
    "\n",
    "# Kolommen ordenen \n",
    "gdf_weg = gdf_weg[[\n",
    "    'gml_id', 'creationDate', 'function', 'surfaceMaterial', 'plus-fysiekVoorkomenWegdeel', 'plus-functieWegdeel', 'geometry'\n",
    "]].rename(columns={'plus-fysiekVoorkomenWegdeel': 'fysiekVoorkomenWegdeel', 'plus-functieWegdeel': 'functieWegdeel'})"
   ]
  },
  {
   "cell_type": "code",
   "execution_count": null,
   "metadata": {},
   "outputs": [],
   "source": [
    "# Samenvoegen van bermen en wegen tot één dataset\n",
    "gdf = GeoDataFrame(pd.concat([gdf_weg, gdf_berm], ignore_index=True), crs=amersfoort)\n",
    "gdf = gdf.where(~gdf.isna(), 'waardeOnbekend')  # NaN vervangen door waardeOnbekend (is niet per se nodig)\n",
    "gdf = gdf.set_index('gml_id')  # Indexeren op gml_id\n",
    "\n",
    "# Kolom met oppervlakte per wegdeel toevoegen\n",
    "gdf = calc_area(gdf, m=True)  # zie functie hierboven"
   ]
  },
  {
   "cell_type": "markdown",
   "metadata": {},
   "source": [
    "# Waar op wegdelen staan bomen?"
   ]
  },
  {
   "cell_type": "code",
   "execution_count": null,
   "metadata": {},
   "outputs": [],
   "source": [
    "# We gaan hieronder een aantal kolommen toevoegen.\n",
    "# Allereerst moeten we vinden welke bomen op welke wegdelen staan:\n",
    "sjoined = sjoin(gdf, bomen, how='left')  # Deze bewaren we voor later\n",
    "\n",
    "\n",
    "# Kolom toevoegen voor afstand van een boom tot de rand van een polygon.\n",
    "# Hiervoor maken we een tijdelijk GeoDataFrame met daarin de bestaande bomen\n",
    "tmp = to_crs(bomen.copy(), cea)  # Gebruik cea voor het rekenen met equal area\n",
    "\n",
    "# Kopieër de geometrieën, zodat we zometeen de geometrie van bomen kunnen behouden naast de geometrie van wegdelen\n",
    "tmp['punten'] = tmp.geometry.astype(str).copy()\n",
    "\n",
    "# Maak opnieuw een spatial join, maar bewaar alleen de wegdelen waarop bomen staan\n",
    "tmp = sjoin(to_crs(gdf.copy(), cea), tmp, how='inner')\n",
    "\n",
    "# Maak een GeoSeries met de afstand van een boom-punt tot de rand van een wegdeel.\n",
    "# We moeten hier opnieuw de geometrie inladen, omdat we deze hierboven hadden omgezet in tekst\n",
    "tmp = tmp.geometry.exterior.distance(GeoDataFrame(tmp.punten, geometry=tmp.punten.apply(wkt.loads), crs=cea))\n",
    "tmp.name = 'gem_afstand_tot_rand'\n",
    "tmp = tmp.groupby(tmp.index).mean()  # Groepeer op gml_id van wegdeel, en neem het gemiddelde van gem_afstand_tot_rand\n",
    "\n",
    "# Voeg gem_afstand_tot_rand toe aan de eerder gemaakte spatial join. Er wordt samengevoegd adhv gml_id van wegdeel\n",
    "joined = sjoined.join(tmp, how='left')\n",
    "\n",
    "\n",
    "# Kolom toevoegen aan ons GeoDataFrame voor het aantal bomen per wegdeel-polygoon\n",
    "gdf = gdf.merge(joined  # Dit zijn de wegdelen plus de nieuwe kolom gem_afstand_tot_rand\n",
    "                .groupby(joined.index).sum()[[  # Groepeer op gml_id van wegdeel, en neem de som van\n",
    "                    'aantal_bomen', 'boomoppervlakte', 'gem_afstand_tot_rand']],  # deze kolommen\n",
    "                how='left', left_index=True, right_index=True)  # Voeg samen op gml_id en behoud alle wegdelen\n",
    "\n",
    "# Opschonen\n",
    "del tmp, joined, sjoined\n",
    "\n",
    "# Zet aantal_bomen om van float naar int\n",
    "gdf['aantal_bomen'] = gdf.aantal_bomen.astype(int)\n",
    "\n",
    "# Dit was eerst al een gemiddelde, maar omdat we hierboven aggregeerden met som, \n",
    "# moeten we opnieuw delen door het aantal om weer op het gemiddelde uit te komen\n",
    "gdf['gem_afstand_tot_rand'] = gdf.gem_afstand_tot_rand / gdf.aantal_bomen"
   ]
  },
  {
   "cell_type": "code",
   "execution_count": null,
   "metadata": {},
   "outputs": [],
   "source": [
    "# Twee tabellen maken om te bekijken hoeveel bomen er op welke wegdelen staan\n",
    "bomen_per_function = gdf[['function', 'aantal_bomen']].groupby(['function'], as_index=False).sum()\n",
    "bomen_per_functieWegdeel = gdf[['functieWegdeel', 'aantal_bomen']].groupby(['functieWegdeel'], as_index=False).sum()\n",
    "\n",
    "# Hoeveel bestaande bomen staan er niet op wegdelen? \n",
    "org = bomen.aantal_bomen.sum()\n",
    "clc = gdf.aantal_bomen.sum()\n",
    "print(f'Er zijn {org} - {clc} = {org - clc} bomen die niet op wegdelen staan,\\n'\n",
    "      f'deze worden in de verdere analyse dus buiten beschouwing gelaten.')\n",
    "del org, clc"
   ]
  },
  {
   "cell_type": "markdown",
   "metadata": {},
   "source": [
    "# Ruimte vinden voor nieuwe bomen"
   ]
  },
  {
   "cell_type": "code",
   "execution_count": null,
   "metadata": {},
   "outputs": [],
   "source": [
    "# Kolommen toevoegen voor (ruimte voor) nieuwe bomen \n",
    "\n",
    "# Hiertoe wordt een tijdelijk GeoDataFrame aangemaakt\n",
    "tmp = gdf[(gdf.aantal_bomen > 0) |  # op stukken waar al andere bomen staan\n",
    "          ((gdf.aantal_bomen == 0) &  # op terrein waar nog geen bomen staan, en dat een van de volgende functies heeft:\n",
    "           (gdf.function.isin(['transitie', 'voetpad', 'parkeervlak', \n",
    "                               'voetgangersgebied', 'woonerf', 'verkeerseiland', 'berm'])))]\n",
    "\n",
    "# Beschikbare ruimte, gedefinieerd als het verschil tussen oppervlakte van een wegdeel en oppervlakte van bestaande bomen\n",
    "tmp['ruimte'] = (tmp.oppervlakte - tmp.boomoppervlakte)\n",
    "tmp.loc[tmp.ruimte < 0, 'ruimte'] = 0  # Beschikbare ruimte kan niet negatief zijn\n",
    "\n",
    "# Aantal voor nieuwe bomen toevoegen, aan de hand van de beschikbare ruimte.\n",
    "# Hierbij wordt ervan uitgegaan dat de beschikbare ruimte helemaal vol wordt geplant\n",
    "# en dat een boom de ruimte inneemt van een vierde van een microbosje\n",
    "tmp['nieuwe_bomen'] = (tmp.ruimte / (tiny_forest_area / 4)).astype(int)\n",
    "\n",
    "# We kunnen ook uitrekenen welke grootte de bomen die we planten kunnen hebben\n",
    "# Dit kan gebruikt worden voor een meer nauwkeurige berekening\n",
    "tmp['grote_bomen']  = (tmp.ruimte / grote_boom).astype(int)\n",
    "tmp['middel_bomen'] = np.where((tmp.ruimte % grote_boom) > middel_boom, 1, 0)\n",
    "tmp['kleine_bomen'] = np.where(np.logical_and((tmp.ruimte % grote_boom) > kleine_boom, \n",
    "                                              (tmp.ruimte % grote_boom) < middel_boom), 1, 0)\n",
    "\n",
    "# Tot slot de nieuwe kolommen toevoegen met ons GeoDataFrame\n",
    "gdf = gdf.join(tmp[['ruimte', 'nieuwe_bomen', 'grote_bomen', 'middel_bomen', 'kleine_bomen']], how='left')\n",
    "\n",
    "del tmp"
   ]
  },
  {
   "cell_type": "code",
   "execution_count": null,
   "metadata": {},
   "outputs": [],
   "source": [
    "# Hoeveel bomen kunnen we planten? \n",
    "groot = gdf.grote_bomen.sum().astype(int)\n",
    "middel = gdf.middel_bomen.sum().astype(int)\n",
    "klein = gdf.kleine_bomen.sum().astype(int)\n",
    "print(f'Er kunnen {(gdf.nieuwe_bomen.sum() / 4).astype(int):,} microbosjes geplant worden in Amsterdam.\\n'\n",
    "      f'Deze kunnen bestaan uit {groot:,} grote, {middel:,} middel, en {klein:,} kleine bomen.')"
   ]
  },
  {
   "cell_type": "markdown",
   "metadata": {},
   "source": [
    "# Bomen planten"
   ]
  },
  {
   "cell_type": "code",
   "execution_count": null,
   "metadata": {},
   "outputs": [],
   "source": [
    "# Eerst nog informatie over buurten toevoegen aan ons gdf, die kan worden gebruikt voor het plotten\n",
    "gdf = sjoin(gdf, buurten[['geometry', 'Buurtcode', 'Buurt', 'Buurtcombinatie_code', 'Stadsdeel_code']], \n",
    "            how='left').drop(columns=['index_right'])\n",
    "gdf = gdf[~gdf.Buurtcode.isna()]  # elke weg die buiten de buurten valt laten we weg"
   ]
  },
  {
   "cell_type": "markdown",
   "metadata": {},
   "source": [
    "Definieer een aantal functies die voor ons willekeurig nieuwe bomen planten."
   ]
  },
  {
   "cell_type": "code",
   "execution_count": null,
   "metadata": {},
   "outputs": [],
   "source": [
    "\n",
    "def random_points_within(poly, k, min_dist=.5):\n",
    "    \n",
    "    '''Returns a list of lists of k random Point objects that are within poly, seperated by at least min_dist'''\n",
    "    \n",
    "    min_x, min_y, max_x, max_y = poly.bounds\n",
    "    points = []\n",
    "    \n",
    "    while len(points) < k:\n",
    "        \n",
    "        # Pak een random punt op de x-as, en vind en een random punt op de y-as dat in het polygoon ligt\n",
    "        try:\n",
    "            x = random.uniform(min_x, max_x)\n",
    "            x_line = LineString([(x, min_y), (x, max_y)])\n",
    "            x_line_intercept_min, x_line_intercept_max = x_line.intersection(poly).xy[1].tolist()\n",
    "            y = random.uniform(x_line_intercept_min, x_line_intercept_max)\n",
    "        except:\n",
    "            continue\n",
    "        \n",
    "        point = Point([x, y])\n",
    "        \n",
    "        # Controleer of de afstand van een nieuwe boom tot bestaande bomen kleiner is dan min_dist\n",
    "        # Dit werkt nog niet goed wanneer min_dist te groot is\n",
    "        dist = []\n",
    "        gdf = GeoDataFrame(points, crs=cea)\n",
    "        for i in range(len(gdf)):\n",
    "            dist.append(gdf.iat[i, 0].distance(point) < min_dist)\n",
    "        \n",
    "        # Voeg de nieuwe boom toe, behalve als er een andere boom dichterbij ligt dan min_dist\n",
    "        if sum(dist) == 0:\n",
    "            points.append(point)\n",
    "        else:\n",
    "            continue\n",
    "        \n",
    "    return points\n",
    "\n",
    "\n",
    "def random_points(row):\n",
    "    '''Returns a list of lists of random points, based on a geometry and a value of nieuwe_bomen in a GeoDataFrame'''\n",
    "    return random_points_within(row['geometry'], row['nieuwe_bomen'])\n",
    "\n",
    "\n",
    "def plant_trees(gdf):\n",
    "    '''Returns a GeoSeries (with epsg:28992) of random points within each geometry of a GeoDataFrame'''\n",
    "    gdf = to_crs(gdf, cea)  # change gdf.crs to cea for equal area calculations \n",
    "    points = gdf.apply(random_points, axis=1)  # get a list of lists of random points within gdf.geometry\n",
    "    points = pd.Series(points).apply(lambda x: pd.Series(x)).stack().tolist()  # transform into a Series\n",
    "    gdf = GeoSeries(points, crs=cea)  # transform into a GeoSeries\n",
    "    gdf = to_crs(gdf, amersfoort)  # change crs to epsg:28992\n",
    "    return gdf\n",
    "\n"
   ]
  },
  {
   "cell_type": "markdown",
   "metadata": {},
   "source": [
    "Maak data om te plotten"
   ]
  },
  {
   "cell_type": "code",
   "execution_count": null,
   "metadata": {},
   "outputs": [],
   "source": [
    "# Maak subset van de wegen-data\n",
    "tmp = gdf[gdf.Buurt.isin(['Alfa-driehoek', 'Bedrijventerrein Sloterdijk I'])]\n",
    "\n",
    "# Maak een GeoSeries met nieuwe bomen\n",
    "geo = plant_trees(tmp)\n",
    "\n",
    "# Maak subset van bestaande bomen\n",
    "boom = bomen[bomen.geometry.within(buurten[buurten.Buurt.isin(['Alfa-driehoek', 'Bedrijventerrein Sloterdijk I'])].geometry[0])]\n",
    "\n",
    "# Pak de locatie van Matrixian\n",
    "mx = GeoSeries(Point([118284, 489564]), crs=amersfoort)"
   ]
  },
  {
   "cell_type": "markdown",
   "metadata": {},
   "source": [
    "# Waar planten we de bomen?"
   ]
  },
  {
   "cell_type": "markdown",
   "metadata": {},
   "source": [
    "Maak een plot van de omgeving van Matrixian"
   ]
  },
  {
   "cell_type": "code",
   "execution_count": null,
   "metadata": {},
   "outputs": [],
   "source": [
    "%matplotlib inline\n",
    "\n",
    "fig, ax = plt.subplots(1, figsize=(50, 50))\n",
    "plt.axis('off')\n",
    "plt.title(f'{len(geo)} nieuwe bomen rondom het kantoor van Matrixian Group', size=50)\n",
    "\n",
    "# Plot de wegen\n",
    "tmp.plot(ax=ax, color='#1f77b4')\n",
    "\n",
    "# Plot de bestaande bomen\n",
    "boom.plot(ax=ax, color='#bcbd22')\n",
    "\n",
    "# Plot de nieuwe bomen\n",
    "geo.plot(ax=ax, color='#d62728', markersize=50)\n",
    "\n",
    "# Plot de locatie van Matrixian\n",
    "mx.plot(ax=ax, color='k', markersize=400, marker='X')\n",
    "plt.annotate(s='Matrixian', xy=(118434, 489564), horizontalalignment='center', size=40, \n",
    "             bbox=dict(facecolor='mediumaquamarine', edgecolor='mediumvioletred', boxstyle=f'round,pad=0.1'));\n",
    "\n",
    "# del geo, tmp"
   ]
  },
  {
   "cell_type": "markdown",
   "metadata": {},
   "source": [
    "Maak ook nog een plot voor stadsdeel Centrum (dit duurt eventjes)"
   ]
  },
  {
   "cell_type": "code",
   "execution_count": null,
   "metadata": {},
   "outputs": [],
   "source": [
    "geo_weg = GeoDataFrame(gdf.geometry.copy(), crs=amersfoort)\n",
    "geo_weg = geo_weg[geo_weg.geometry.within(sd.geometry[0])]\n",
    "geo_bomen = bomen[bomen.geometry.within(sd.geometry[0])]\n",
    "nieuwe_bomen = plant_trees(gdf[gdf.geometry.within(sd.geometry[0])])"
   ]
  },
  {
   "cell_type": "code",
   "execution_count": null,
   "metadata": {
    "scrolled": false
   },
   "outputs": [],
   "source": [
    "fig, ax = plt.subplots(1, figsize=(50, 50))\n",
    "plt.axis('off')\n",
    "plt.title(f'{len(nieuwe_bomen)} nieuwe bomen in stadsdeel Centrum', size=50)\n",
    "geo_weg.plot(ax=ax, color='#1f77b4')\n",
    "geo_bomen.plot(ax=ax, color='#bcbd22', markersize=50)\n",
    "nieuwe_bomen.plot(ax=ax, color='#d62728', markersize=50, alpha=.5);"
   ]
  },
  {
   "cell_type": "markdown",
   "metadata": {},
   "source": [
    "# Vanaf hier is het louter geklooi.\n",
    "\n",
    "Ik probeerde te onderzoeken hoe ik een plot kan maken waarbij de nieuwe bomen (met 257 tegelijk, in 34 iteraties) uit de grond zouden schieten "
   ]
  },
  {
   "cell_type": "code",
   "execution_count": null,
   "metadata": {},
   "outputs": [],
   "source": [
    "print(f'{int(len(geo)/34)} × {int(len(geo)/257)} = {len(geo)}')"
   ]
  },
  {
   "cell_type": "code",
   "execution_count": null,
   "metadata": {
    "scrolled": true
   },
   "outputs": [],
   "source": [
    "fig = plt.figure()\n",
    "plt.scatter(geo.apply(lambda p: p.x), geo.apply(lambda p: p.y))\n",
    "plt.axis('off');"
   ]
  },
  {
   "cell_type": "code",
   "execution_count": null,
   "metadata": {},
   "outputs": [],
   "source": [
    "def main():\n",
    "    x = geo.apply(lambda p: p.x)\n",
    "    y = geo.apply(lambda p: p.y)\n",
    "    data = np.array((x, y))\n",
    "    \n",
    "    fig = plt.figure()\n",
    "    scat = plt.scatter(x, y)\n",
    "\n",
    "    ani = animation.FuncAnimation(fig, update_plot, frames=257, fargs=(data, scat))\n",
    "    plt.show()\n",
    "\n",
    "def update_plot(i, data, scat):\n",
    "    scat.set_array(data[i-257:i])\n",
    "    return scat,\n",
    "\n",
    "main()"
   ]
  },
  {
   "cell_type": "code",
   "execution_count": null,
   "metadata": {},
   "outputs": [],
   "source": [
    "%matplotlib notebook\n",
    "\n",
    "xdata = []\n",
    "ydata = []\n",
    "\n",
    "scat = plt.scatter(xdata, ydata)\n",
    "\n",
    "def update(i):\n",
    "    xdata.append(geo.apply(lambda p: p.x)[i-257:i])\n",
    "    ydata.append(geo.apply(lambda p: p.y)[i-257:i])\n",
    "    scat.set_array(np.array((xdata, ydata)))\n",
    "    return scat\n",
    "\n",
    "ani= matplotlib.animation.FuncAnimation(plt.gcf(), update, frames=257, interval=257, repeat=False)\n",
    "\n",
    "plt.show()"
   ]
  },
  {
   "cell_type": "code",
   "execution_count": null,
   "metadata": {},
   "outputs": [],
   "source": [
    "%matplotlib notebook \n",
    "\n",
    "fig = plt.figure()\n",
    "plt.ion()  # enable interactivity\n",
    "plt.axis('off')\n",
    "\n",
    "x = list()\n",
    "y = list()\n",
    "\n",
    "for i in range(257, len(geo), 257):\n",
    "    x.append(geo.apply(lambda p: p.x)[i-257:i])\n",
    "    y.append(geo.apply(lambda p: p.y)[i-257:i])\n",
    "    plt.scatter(x, y)\n",
    "    plt.pause(.1)"
   ]
  },
  {
   "cell_type": "code",
   "execution_count": null,
   "metadata": {},
   "outputs": [],
   "source": [
    "fig, ax = plt.subplots(1, figsize=(50, 50))\n",
    "plt.axis('off')\n",
    "gdf.plot(ax=ax, color='#1f77b4')\n",
    "# bomen.plot(ax=ax, color='#bcbd22', markersize=50)\n",
    "# geo = GeoSeries(gdf.points, crs=cea)\n",
    "# geo.plot(ax=ax, color='#d62728', markersize=50);\n",
    "# del geo"
   ]
  },
  {
   "cell_type": "markdown",
   "metadata": {},
   "source": [
    "# Lengte en breedte\n",
    "\n",
    "In deze code probeer ik de afmetingen van een polygon te benaderen (met de nadruk op benaderen)"
   ]
  },
  {
   "cell_type": "code",
   "execution_count": null,
   "metadata": {},
   "outputs": [],
   "source": [
    "tmp = to_crs(gdf, cea)\n",
    "\n",
    "item = 4\n",
    "minx, miny, maxx, maxy = tmp.geometry[item].bounds\n",
    "\n",
    "lengte1 = sqrt((maxx - minx)**2 + (maxy - miny)**2)\n",
    "opp = tmp.geometry[item].area\n",
    "breedte1 = opp / lengte1\n",
    "print(f'{lengte1} x {breedte1} = {opp}')\n",
    "\n",
    "lengte2 = maxx - minx\n",
    "breedte2 = maxy - miny\n",
    "ratio = opp / (lengte2*breedte2)\n",
    "print(f'{lengte2*sqrt(ratio)} x {breedte2*sqrt(ratio)} = {opp}')\n",
    "\n",
    "print(f'{mean((lengte1, lengte2))} x {mean((breedte1, breedte2))} = {opp}')\n",
    "\n",
    "tmp.geometry[item]\n",
    "\n",
    "del tmp"
   ]
  }
 ],
 "metadata": {
  "kernelspec": {
   "display_name": "Python 3",
   "language": "python",
   "name": "python3"
  },
  "language_info": {
   "codemirror_mode": {
    "name": "ipython",
    "version": 3
   },
   "file_extension": ".py",
   "mimetype": "text/x-python",
   "name": "python",
   "nbconvert_exporter": "python",
   "pygments_lexer": "ipython3",
   "version": "3.7.1"
  }
 },
 "nbformat": 4,
 "nbformat_minor": 2
}
