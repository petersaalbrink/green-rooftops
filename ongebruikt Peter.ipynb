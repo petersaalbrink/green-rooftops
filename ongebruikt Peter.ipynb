{
 "cells": [
  {
   "cell_type": "markdown",
   "metadata": {},
   "source": [
    "# Week 2"
   ]
  },
  {
   "cell_type": "code",
   "execution_count": 1,
   "metadata": {},
   "outputs": [],
   "source": [
    "\n",
    "# Rijen filteren\n",
    "# gdf_weg = gdf_weg[gdf_weg.function.isin(['transitie', 'voetpad', 'parkeervlak', 'voetgangersgebied', 'woonerf'])]\n",
    "# gdf_weg = gdf_weg[gdf_weg.functieWegdeel == 'waardeOnbekend']\n",
    "\n",
    "\n",
    "# # Kolom toevoegen voor afstand van een boom tot de rand van een polygon\n",
    "# tmp = to_crs(bomen.copy(), cea)\n",
    "# tmp['punten'] = tmp.geometry.astype(str).copy()\n",
    "# tmp = sjoin(to_crs(gdf.copy(), cea), tmp, how='inner')\n",
    "# tmp = tmp.geometry.exterior.distance(GeoDataFrame(tmp.punten, geometry=tmp.punten.apply(wkt.loads), crs=cea))\n",
    "# # gdf['afstand_tot_rand'] = tmp.values\n",
    "# # del tmp\n",
    "\n",
    "# # Kolom toevoegen voor aantal bomen per polygon\n",
    "# gdf = gdf.merge(sjoin(gdf, bomen, how='left')\n",
    "#                 .groupby(['gml_id'], as_index=False).sum()[[\n",
    "#                     'gml_id', 'aantal_bomen', 'boomoppervlakte', 'afstand_tot_rand']], \n",
    "#                 how='left', on='gml_id')\n",
    "# gdf['aantal_bomen'] = gdf.aantal_bomen.astype(int)\n",
    "# gdf['afstand_tot_rand'] = gdf.afstand_tot_rand / gdf.aantal_bomen\n",
    "\n"
   ]
  },
  {
   "cell_type": "code",
   "execution_count": null,
   "metadata": {},
   "outputs": [],
   "source": [
    "\n",
    "\n",
    "# bomen_per_functieWegdeel = gdf[['functieWegdeel', 'aantal_bomen']].groupby(['functieWegdeel'], as_index=False).sum()\n",
    "\n",
    "\n",
    "# # Sommige geometrieën zijn LineStrings, hiervan maken we Polygons zodat we ook de oppervlakte kunnen berekenen\n",
    "# gdf.loc[gdf.oppervlakte == 0, 'geometry'] = gdf.loc[gdf.oppervlakte == 0, 'geometry'].apply(\n",
    "#     lambda x: 'POLYGON ((' + ', '.join(x.wkt[12:-1].split(', ') + x.wkt[12:-1].split(', ')[::-1]) + '))').apply(\n",
    "#     wkt.loads)\n",
    "# gdf.loc[gdf.oppervlakte == 0, 'oppervlakte'] = calc_area(gdf[gdf.oppervlakte == 0], m=True).oppervlakte\n",
    "\n",
    "\n",
    "# gdf = sjoin(gdf, buurten[['geometry', 'Buurtcode', 'Buurt', 'Buurtcombinatie_code', 'Stadsdeel_code']], \n",
    "#             how='left').drop(columns=['index_right'])\n",
    "# gdf = gdf[~gdf.Buurtcode.isna()]  # elke weg die buiten de buurten valt laten we weg (we gebruiken hier geen overlay)\n",
    "\n",
    "# # Beschikbare ruimte, gedefinieerd als het verschil tussen oppervlakte van een wegdeel en oppervlakte van bestaande bomen\n",
    "# tmp['ruimte'] = (tmp.oppervlakte - tmp.boomoppervlakte)\n",
    "# tmp.loc[tmp.ruimte < 0, 'ruimte'] = 0  # Beschikbare ruimte kan niet negatief zijn\n",
    "\n",
    "# categorical_features = ['aantal_bomen', 'Stadsdeel_code']\n",
    "# X_train, X_test, y_train, y_test = train_test_split(X, y, test_size=0.3, random_state=1337)\n",
    "# categorical_transformer = Pipeline([('onehot', OneHotEncoder(handle_unknown='ignore'))])\n",
    "# preprocessor = ColumnTransformer([('cat', categorical_transformer, categorical_features)])\n",
    "# knn = Pipeline([('preprocessor', preprocessor), ('knn', KNeighborsClassifier())])\n",
    "\n",
    "# result_knn['diff'] = result_knn.where(result_knn.boom == result_knn.predicted)\n",
    "# print(f'{len(result_knn)} - {result_knn[\"diff\"].sum()} = {len(result_knn) - result_knn[\"diff\"].sum()}')\n",
    "\n",
    "\n"
   ]
  },
  {
   "cell_type": "code",
   "execution_count": null,
   "metadata": {},
   "outputs": [],
   "source": [
    "# # def explode(indata):\n",
    "    \n",
    "# #     indf = gpd.GeoDataFrame.from_file(indata)\n",
    "# #     outdf = gpd.GeoDataFrame(columns=indf.columns)\n",
    "    \n",
    "# #     for idx, row in indf.iterrows():\n",
    "        \n",
    "# #         if type(row.geometry) == Polygon:\n",
    "# #             outdf = outdf.append(row,ignore_index=True)\n",
    "        \n",
    "# #         if type(row.geometry) == MultiPolygon:\n",
    "# #             multdf = gpd.GeoDataFrame(columns=indf.columns)\n",
    "# #             recs = len(row.geometry)\n",
    "# #             multdf = multdf.append([row]*recs,ignore_index=True)\n",
    "            \n",
    "# #             for geom in range(recs):\n",
    "# #                 multdf.loc[geom,'geometry'] = row.geometry[geom]\n",
    "# #             outdf = outdf.append(multdf,ignore_index=True)\n",
    "    \n",
    "# #     return outdf\n",
    "\n",
    "# def explode(gdf):\n",
    "#     \"\"\" \n",
    "#     Explodes a geodataframe \n",
    "    \n",
    "#     Will explode muti-part geometries into single geometries. Original index is\n",
    "#     stored in column level_0 and zero-based count of geometries per multi-\n",
    "#     geometry is stored in level_1\n",
    "    \n",
    "#     Args:\n",
    "#         gdf (gpd.GeoDataFrame) : input geodataframe with multi-geometries\n",
    "        \n",
    "#     Returns:\n",
    "#         gdf (gpd.GeoDataFrame) : exploded geodataframe with a new index \n",
    "#                                  and two new columns: level_0 and level_1\n",
    "        \n",
    "#     \"\"\"\n",
    "#     gs = gdf.explode()\n",
    "#     gdf2 = gs.reset_index().rename(columns={0: 'geometry'})\n",
    "#     gdf_out = gdf2.merge(gdf.drop('geometry', axis=1), left_on='level_0', right_index=True)\n",
    "#     gdf_out = gdf_out.set_index(['level_0', 'level_1']).set_geometry('geometry')\n",
    "#     gdf_out.crs = gdf.crs\n",
    "#     return gdf_out\n",
    "\n"
   ]
  },
  {
   "cell_type": "markdown",
   "metadata": {},
   "source": [
    "# Week 1"
   ]
  },
  {
   "cell_type": "code",
   "execution_count": 1,
   "metadata": {},
   "outputs": [],
   "source": [
    "# # Importeer BAG-data\n",
    "# real_estate_data = pd.read_csv('data/real_estate_data.csv', dtype=str)\n",
    "# bag = pd.read_csv('data/BAG_data_Amsterdam.csv', dtype=str)\n",
    "\n",
    "# # Importeer groene daken\n",
    "# df = pd.read_csv('data/daken/GROENE_DAKEN.csv', sep=';')\n",
    "# df['geometry'] = df.WKT_LNG_LAT.str.replace(',', ' ')\n",
    "# df = GeoDataFrame(df, crs=crs, geometry=df.geometry.apply(wkt.loads)).\\\n",
    "#     drop(columns=['OBJECTNUMMER', 'WKT_LNG_LAT', 'WKT_LAT_LNG', 'Unnamed: 14'])"
   ]
  },
  {
   "cell_type": "code",
   "execution_count": 2,
   "metadata": {},
   "outputs": [],
   "source": [
    "# # Importeer gemeentelijke data\n",
    "\n",
    "# grond = pd.read_csv('data/GRONDGEBRUIK_2017.csv', sep=';', usecols=['AMScode_Oms', 'WKT_LNG_LAT'])\n",
    "# grond.rename(columns={'WKT_LNG_LAT':'geometry'}, inplace=True)\n",
    "# grond = GeoDataFrame(grond, crs=crs, geometry=grond.geometry.apply(wkt.loads))\n",
    "\n",
    "# # bomen = pd.concat([pd.read_csv(file, sep=';', usecols=['WKT_LNG_LAT'], dtype=str) \n",
    "# #                    for file in glob.glob('data\\BOMEN*.csv')], axis=0, ignore_index=True)\n",
    "# # bomen['geometry'] = bomen.WKT_LNG_LAT.str.replace(',', ' ')\n",
    "# # bomen = GeoDataFrame(bomen, crs=crs, geometry=bomen.geometry.apply(wkt.loads)).drop(columns='WKT_LNG_LAT')\n",
    "\n",
    "# # merged = sjoin(grond, bomen).groupby('AMScode_Oms').count()"
   ]
  },
  {
   "cell_type": "code",
   "execution_count": 3,
   "metadata": {},
   "outputs": [],
   "source": [
    "# # Maak een dataframe met gematchte postcodes en stadsdelen, en bijbehorende polygonen\n",
    "# polygons = pc6.merge(buurten[['Buurtcode', 'Stadsdeel_code']], on=['Buurtcode']).\\\n",
    "#     merge(sd[['Stadsdeel', 'Stadsdeel_code', 'geometry']], on=['Stadsdeel_code'], suffixes=('_PC', '_SD')).\\\n",
    "#     drop(columns=[\n",
    "# #     'Buurtcode', \n",
    "#     'Buurtcombinatie_code', \n",
    "#     'Stadsdeel_code'])\n",
    "# polygons.to_csv('polygons.csv', index=False, encoding='utf8')"
   ]
  },
  {
   "cell_type": "code",
   "execution_count": null,
   "metadata": {},
   "outputs": [],
   "source": [
    "# from math import pi, cos, radians\n",
    "\n",
    "# def reproject_area(S):\n",
    "#     earth_radius = 6364.763 \n",
    "#     C = (pi * earth_radius / 180.0)**2\n",
    "#     return S*C\n",
    "\n",
    "# # Berekening volgens Jurjen\n",
    "# sd = to_crs(sd, crs)\n",
    "# sd['area1'] = sd.geometry.area\n",
    "# sd['area1'] = sd.area1.apply(lambda x : reproject_area(x))\n",
    "\n",
    "# # Berekening volgens Lambert\n",
    "# sd = to_crs(sd, lambert)\n",
    "# sd['area3'] = sd.geometry.area / 10**6\n",
    "\n"
   ]
  },
  {
   "cell_type": "markdown",
   "metadata": {},
   "source": [
    "## Grondgebruik"
   ]
  },
  {
   "cell_type": "code",
   "execution_count": null,
   "metadata": {},
   "outputs": [],
   "source": [
    "# # Grondgebruik toevoegen\n",
    "# grondgebruik = sjoin(gdf_pv, grond).drop(columns=['index_right'])\n",
    "# grondgebruik = grondgebruik.groupby(grondgebruik.index).agg(list)\n",
    "# codes = grondgebruik.AMScode_Oms.copy()\n",
    "# grondgebruik = grondgebruik.drop(columns=['AMScode_Oms']).applymap(lambda x: x[0])\n",
    "# grondgebruik['AMScode_Oms'] = codes.copy()\n",
    "# # # We gaan ipv grondgebruik, strategische plannen gebruiken\n",
    "# # to_keep = ['Wegverkeersterrein', 'Wegverkeersterrein rijkswegen', 'Wegverkeersterrein provinciale wegen', 'Woonterrein', 'Detailhandel, winkelcentra en horeca', 'Overheid (kantoor/dienstverlening/openbare voorzieningen)', 'Overheid (nutsbedrijven/defensieterrein)', 'Sociaal-culturele voorzieningen (incl. onderwijs, gezondheidszorg)', 'Bedrijventerrein (industrie, tentoonstellingsterrein, garagebedrijven)', 'Bedrijventerrein (overwegend kantoren/kantoorachtig)', 'Bouwterrein woonbestemming', 'Bouwterrein niet-woonbestemming', 'Semi verhard overig terrein', 'Parkeerterrein ArenA', 'Dagrecreatief terrein', 'Verblijfsrecreatief terrein', 'Open droog-natuurlijk terrein', 'Open nat-natuurlijk terrein', 'Open nat-natuurlijk terrein met schotse hooglanders']\n",
    "# # to_drop = ['Spoorterrein', 'Metro, vrije trambanen', 'Bedrijfsspoor', 'Vliegveld (niet het gras)', 'Stortplaats', 'Wrakkenopslagplaats', 'Begraafplaats', 'Tijdelijke opslag van grond', 'Park en plantsoen', 'Sportterrein', 'Golfterrein', 'Open nat-natuurlijk terrein waterpartijen', 'IJsselmeer/Markermeer', 'Recreatief binnenwater', 'Recreatief binnenwater grote plas', 'Water in park/plantsoen', 'Water in golfterrein', 'Overig water breder dan 6 m.', 'Overig water `t IJ', 'Overig water grote plassen''Artis', 'Terrein voor glastuinbouw', 'Overig agrarisch terrein', 'Bos', 'Volkstuin']\n",
    "# # gdf_pv = gdf_pv[~gdf_pv.grondgebruik.isin(to_drop)]\n",
    "\n",
    "# # gdf_pv = GeoDataFrame(grondgebruik)\n",
    "# gdf_pv = GeoDataFrame(grondgebruik, crs=crs)\n",
    "# gdf_pv['geometry'] = gdf_pv.geometry.to_crs(crs)\n",
    "# gdf_pv.crs = crs\n",
    "\n",
    "# del grondgebruik, codes"
   ]
  },
  {
   "cell_type": "markdown",
   "metadata": {},
   "source": [
    "# Plot"
   ]
  },
  {
   "cell_type": "code",
   "execution_count": null,
   "metadata": {},
   "outputs": [],
   "source": [
    "# buurten = to_crs(buurten, crs=mercator)\n",
    "# centrum_buurten = buurten[buurten.Stadsdeel_code == 'A']"
   ]
  },
  {
   "cell_type": "code",
   "execution_count": null,
   "metadata": {},
   "outputs": [],
   "source": [
    "# # Maak een plot van Amsterdam-Centrum, met groene kleuring naar aantal parkeervakken, en in rood de vakken zelf\n",
    "# fig, ax = plt.subplots(1, figsize=(60, 60))\n",
    "# plt.axis('off')\n",
    "# plt.title('Centrum, aantal parkeervakken per buurt', size=80)\n",
    "# centrum.plot(ax=ax, column='aantal_vakken', cmap='Greens', linewidth=8, edgecolor='white', scheme='Fisher_Jenks')\n",
    "# vakken.plot(ax=ax, color='red');\n",
    "\n",
    "# # Gooi er een paar labels overheen\n",
    "# for idx, row in centrum.iterrows():\n",
    "#     plt.annotate(s=row['Buurt'], xy=row['coords'], horizontalalignment='center', size=40);\n",
    "\n",
    "# fig, ax = plt.subplots(1, figsize=(60, 60))\n",
    "# plt.axis('off')\n",
    "# plt.title('Amsterdam, aantal parkeervakken per buurt', size=80)\n",
    "# sd.plot(ax=ax, facecolor='none', edgecolor='black')\n",
    "# vakken_per_buurt.plot(ax=ax, column='aantal_vakken', cmap='Greens', linewidth=8, edgecolor='black', scheme='Fisher_Jenks')\n",
    "# alle_vakken.plot(ax=ax, edgecolor='black');\n",
    "\n",
    "# Maak een plot van Centrum over de kaart van Amsterdam, met groene kleuring naar aantal parkeervakken\n",
    "# ax = centrum.plot(column='aantal_vakken', cmap='Accent', edgecolor='black')\n",
    "# plt.axis('off');\n",
    "# mplleaflet.display(fig=ax.figure, tiles='cartodb_positron')"
   ]
  },
  {
   "cell_type": "code",
   "execution_count": null,
   "metadata": {},
   "outputs": [],
   "source": [
    "# # Maak een plot van Amsterdam-Centrum met groene kleuring naar aantal plantbare bomen en in rood de vakken zelf\n",
    "\n",
    "# variable = 'aantal_bomen'\n",
    "\n",
    "# vmin = centrum[variable].min()\n",
    "# vmax = centrum[variable].max()\n",
    "\n",
    "# fig, ax = plt.subplots(1, figsize=(20, 10))\n",
    "\n",
    "# plt.axis('off')\n",
    "# plt.title('Centrum, ruimte voor bomen, per buurt', size=20)\n",
    "\n",
    "# centrum.plot(ax=ax, column=variable, cmap='viridis', linewidth=1, edgecolor='white')\n",
    "# vakken.plot(ax=ax, linewidth=1, color='red')\n",
    "\n",
    "# sm = plt.cm.ScalarMappable(cmap='viridis', norm=plt.Normalize(vmin=vmin, vmax=vmax))\n",
    "# sm._A = []\n",
    "# cbar = fig.colorbar(sm)\n",
    "# cbar.ax.set_ylabel(variable)\n",
    "\n",
    "# # Gooi er een paar labels overheen\n",
    "# for idx, row in centrum.iterrows():\n",
    "#     plt.annotate(s=row['Buurt'], xy=row['coords'], horizontalalignment='center', size=8,\n",
    "#                 bbox=dict(facecolor='white', edgecolor='white', boxstyle='round,pad=0.1'))"
   ]
  }
 ],
 "metadata": {
  "kernelspec": {
   "display_name": "Python 3",
   "language": "python",
   "name": "python3"
  },
  "language_info": {
   "codemirror_mode": {
    "name": "ipython",
    "version": 3
   },
   "file_extension": ".py",
   "mimetype": "text/x-python",
   "name": "python",
   "nbconvert_exporter": "python",
   "pygments_lexer": "ipython3",
   "version": "3.7.1"
  }
 },
 "nbformat": 4,
 "nbformat_minor": 2
}
