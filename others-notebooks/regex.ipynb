{
 "cells": [
  {
   "cell_type": "code",
   "execution_count": null,
   "metadata": {},
   "outputs": [],
   "source": [
    "# # Bomen\n",
    "# pat = re.compile(r'''(-*\\d+\\.\\d+),(-*\\d+\\.\\d+);*''')\n",
    "# for col in ['WKT_LNG_LAT', 'WKT_LAT_LNG']:\n",
    "#     for index in bomen[col].index:\n",
    "#         matches = pat.findall(bomen.loc[index, col])\n",
    "#         if matches:\n",
    "#             bomen.loc[index, col] = Point(tuple(map(float, matches[0])))\n",
    "\n",
    "# # Grond\n",
    "# pat = re.compile(r'''(-*\\d+\\.\\d+ -*\\d+\\.\\d+);*''')\n",
    "# for col in ['WKT_LNG_LAT', 'WKT_LAT_LNG']:\n",
    "#     for index in grond[col].index:\n",
    "#         matches = pat.findall(grond.loc[index, col])\n",
    "#         if matches:\n",
    "#             grond.loc[index, col] = Polygon(tuple(map(float, m.split())) for m in matches)"
   ]
  },
  {
   "cell_type": "code",
   "execution_count": null,
   "metadata": {},
   "outputs": [],
   "source": [
    "# # Zet polygon-strings om in echte Polygons\n",
    "# pat = re.compile(r'''(-*\\d+\\.\\d+ -*\\d+\\.\\d+);*''')\n",
    "# for df in [pc4, pc6, sd, buurten]:\n",
    "#     for col in ['WKT_LNG_LAT']:\n",
    "#         for index in df[col].index:\n",
    "#             matches = pat.findall(df.loc[index, col])\n",
    "#             if matches:\n",
    "#                 df.loc[index, col] = Polygon(tuple(map(float, m.split())) for m in matches)"
   ]
  }
 ],
 "metadata": {
  "kernelspec": {
   "display_name": "Python 3",
   "language": "python",
   "name": "python3"
  },
  "language_info": {
   "codemirror_mode": {
    "name": "ipython",
    "version": 3
   },
   "file_extension": ".py",
   "mimetype": "text/x-python",
   "name": "python",
   "nbconvert_exporter": "python",
   "pygments_lexer": "ipython3",
   "version": "3.7.1"
  }
 },
 "nbformat": 4,
 "nbformat_minor": 2
}
