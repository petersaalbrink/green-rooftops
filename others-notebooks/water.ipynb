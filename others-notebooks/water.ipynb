{
 "cells": [
  {
   "cell_type": "code",
   "execution_count": null,
   "metadata": {},
   "outputs": [],
   "source": [
    "import numpy as np\n",
    "import pandas as pd\n",
    "from math import floor\n",
    "import glob\n",
    "import shapely\n",
    "import geopandas as gp\n",
    "from geopandas import GeoDataFrame, sjoin\n",
    "from shapely import wkt\n",
    "from shapely.geometry import Point, Polygon, MultiPolygon\n",
    "import shapely.speedups; shapely.speedups.enable()\n",
    "import matplotlib.pyplot as plt\n",
    "import matplotlib.patches as patches\n",
    "import matplotlib.colors\n",
    "import warnings; warnings.filterwarnings('ignore')"
   ]
  },
  {
   "cell_type": "code",
   "execution_count": null,
   "metadata": {},
   "outputs": [],
   "source": [
    "crs = {'init': 'epsg:4326'}          # Standaard WGS84\n",
    "amersfoort = {'init': 'epsg:28992'}  # Rijkscoördinatendriehoek\n",
    "cea = {'proj':'cea'}                 # Equal area\n",
    "mercator = {'init': 'epsg:3395'}     # Mercatorprojectie"
   ]
  },
  {
   "cell_type": "code",
   "execution_count": null,
   "metadata": {},
   "outputs": [],
   "source": [
    "# Water\n",
    "water = gp.read_file('C:/Users/PSaalbrink/Desktop/BGT/GeoJSON/bgt_waterdeel Waterdeel.GeoJSON')\n",
    "water = water[~water.gml_id.isin(['beda15e63-2057-11e9-80ec-cbe8c72792b1', \n",
    "                                 'beda4e143-2057-11e9-80ec-cbe8c72792b1', \n",
    "                                 'b6d3946b7-e17a-11e8-80e2-b7dac308c237'])]"
   ]
  },
  {
   "cell_type": "code",
   "execution_count": null,
   "metadata": {},
   "outputs": [],
   "source": [
    "watertjes = GeoDataFrame(water.geometry.copy(), crs=amersfoort)"
   ]
  },
  {
   "cell_type": "code",
   "execution_count": null,
   "metadata": {},
   "outputs": [],
   "source": [
    "fig, ax = plt.subplots(1, figsize=(200, 200))\n",
    "plt.axis('off')\n",
    "watertjes.plot(ax=ax)\n",
    "plt.savefig('Amstel.svg')"
   ]
  }
 ],
 "metadata": {
  "kernelspec": {
   "display_name": "Python 3",
   "language": "python",
   "name": "python3"
  },
  "language_info": {
   "codemirror_mode": {
    "name": "ipython",
    "version": 3
   },
   "file_extension": ".py",
   "mimetype": "text/x-python",
   "name": "python",
   "nbconvert_exporter": "python",
   "pygments_lexer": "ipython3",
   "version": "3.7.1"
  }
 },
 "nbformat": 4,
 "nbformat_minor": 2
}
