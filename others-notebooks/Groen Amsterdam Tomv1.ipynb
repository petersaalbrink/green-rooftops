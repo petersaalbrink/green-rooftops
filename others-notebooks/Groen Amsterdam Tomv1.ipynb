{
 "cells": [
  {
   "cell_type": "code",
   "execution_count": 1,
   "metadata": {},
   "outputs": [],
   "source": [
    "%matplotlib inline\n",
    "\n",
    "import pandas as pd\n",
    "import numpy as np\n",
    "import matplotlib.pyplot as plt\n",
    "# import geopandas as gpd\n",
    "# from pysal.contrib.viz import mapping as maps\n",
    "from shapely.geometry import Point, Polygon\n",
    "import re\n",
    "# from IPython.display import IFrame\n",
    "import mplleaflet\n",
    "from geopandas import GeoDataFrame"
   ]
  },
  {
   "cell_type": "code",
   "execution_count": 2,
   "metadata": {},
   "outputs": [],
   "source": [
    "df_grond = pd.read_csv(\"C:/Users/TSmeitink/Downloads/GRONDGEBRUIK_2017.csv\", sep=\";\")\n",
    "df_district = pd.read_csv(\"C:/Users/TSmeitink/Downloads/GEBIEDEN22.csv\", sep=\";\")"
   ]
  },
  {
   "cell_type": "code",
   "execution_count": 3,
   "metadata": {},
   "outputs": [],
   "source": [
    "pat = re.compile(r'''(-*\\d+\\.\\d+ -*\\d+\\.\\d+);*''')\n",
    "df_grond[\"geometry\"] = ''\n",
    "df_district[\"geometry\"] = ''\n",
    "\n",
    "try:\n",
    "    for index, value in enumerate(df_grond.WKT_LNG_LAT):\n",
    "        matches = pat.findall(df_grond.WKT_LNG_LAT[index])\n",
    "        if matches:\n",
    "            df_grond.loc[index, \"geometry\"] = Polygon(tuple(map(float, m.split())) for m in matches)\n",
    "except KeyError:\n",
    "    pass\n",
    "\n",
    "try:\n",
    "    for index, value in enumerate(df_district.WKT_LNG_LAT):\n",
    "        matches = pat.findall(df_district.WKT_LNG_LAT[index])\n",
    "        if matches:\n",
    "            df_district.loc[index, \"geometry\"] = Polygon(tuple(map(float, m.split())) for m in matches)\n",
    "except KeyError:\n",
    "    pass"
   ]
  },
  {
   "cell_type": "code",
   "execution_count": 4,
   "metadata": {},
   "outputs": [],
   "source": [
    "gdf_g = GeoDataFrame(df_grond)\n",
    "gdf_d = GeoDataFrame(df_district)"
   ]
  },
  {
   "cell_type": "code",
   "execution_count": 5,
   "metadata": {},
   "outputs": [
    {
     "data": {
      "text/plain": [
       "array(['Spoorterrein', 'Metro,  vrije trambanen', 'Bedrijfsspoor',\n",
       "       'Wegverkeersterrein', 'Wegverkeersterrein rijkswegen',\n",
       "       'Wegverkeersterrein provinciale wegen',\n",
       "       'Vliegveld (NIET het gras!!)', 'Woonterrein',\n",
       "       'Detailhandel, winkelcentra en horeca',\n",
       "       'Overheid (kantoor/dienstverlening/openbare voorzieningen)',\n",
       "       'Overheid (nutsbedrijven/defensieterrein)',\n",
       "       'Sociaal-culturele voorzieningen (incl. onderwijs, gezondheidszorg)',\n",
       "       'Bedrijventerrein (industrie, tentoonstellingsterrein, garagebedrijven)',\n",
       "       'Bedrijventerrein (overwegend kantoren/kantoorachtig)',\n",
       "       'Stortplaats', 'Wrakkenopslagplaats', 'Begraafplaats',\n",
       "       'Bouwterrein woonbestemming', 'Bouwterrein niet-woon bestemming',\n",
       "       'Tijdelijke opslag van grond', 'Semi verhard overig terrein',\n",
       "       'Park en plantsoen', 'Sportterrein', 'Golfterrein',\n",
       "       'Parkeerterrein ArenA', 'Volkstuin', 'Dagrecreatief terrein',\n",
       "       'Artis', 'Verblijfsrecreatief terrein',\n",
       "       'Terrein voor glastuinbouw', 'Overig agrarisch terrein', 'Bos',\n",
       "       'Open droog-natuurlijk terrein', 'Open nat-natuurlijk terrein',\n",
       "       'Open nat-natuurlijk terrein met schotse hooglanders',\n",
       "       'Open nat-natuurlijk terrein waterpartijen',\n",
       "       'IJsselmeer/Markermeer', 'Recreatief binnenwater',\n",
       "       'Recreatief binnenwater grote plas', 'Water in park/plantsoen',\n",
       "       'Water in golfterrein', 'Overig water breder dan 6 m.',\n",
       "       'Overig water grote plassen', 'Overig water `t IJ'], dtype=object)"
      ]
     },
     "execution_count": 5,
     "metadata": {},
     "output_type": "execute_result"
    }
   ],
   "source": [
    "df_grond.AMScode_Oms.unique()"
   ]
  },
  {
   "cell_type": "code",
   "execution_count": 14,
   "metadata": {},
   "outputs": [],
   "source": [
    "gr_areas = [\"Bouwterrein woonbestemming\", \"Bouwterrein niet-woon bestemming\", \"Tijdelijke opslag van grond\",\n",
    "           \"Semi verhard overig terrein\", \"Park en plantsoen\", \"Open droog-natuurlijk terrein\", \"Open nat-natuurlijk terrein\",\n",
    "           \"Open nat-natuurlijk terrein met schotse hooglanders\", \"Open nat-natuurlijk terrein waterpartijen\"]"
   ]
  },
  {
   "cell_type": "code",
   "execution_count": 15,
   "metadata": {},
   "outputs": [],
   "source": [
    "df_gg = df_grond[df_grond.AMScode_Oms.isin(gr_areas)]"
   ]
  },
  {
   "cell_type": "code",
   "execution_count": 16,
   "metadata": {},
   "outputs": [],
   "source": [
    "gdf_gg = GeoDataFrame(df_gg)"
   ]
  },
  {
   "cell_type": "code",
   "execution_count": 17,
   "metadata": {},
   "outputs": [],
   "source": [
    "fig, ax = plt.subplots()\n",
    "gdf_d.plot(ax=ax)\n",
    "gdf_gg.plot(ax=ax, color='r')\n",
    "mplleaflet.show(fig=ax.figure)"
   ]
  }
 ],
 "metadata": {
  "kernelspec": {
   "display_name": "Python 3",
   "language": "python",
   "name": "python3"
  },
  "language_info": {
   "codemirror_mode": {
    "name": "ipython",
    "version": 3
   },
   "file_extension": ".py",
   "mimetype": "text/x-python",
   "name": "python",
   "nbconvert_exporter": "python",
   "pygments_lexer": "ipython3",
   "version": "3.7.1"
  }
 },
 "nbformat": 4,
 "nbformat_minor": 2
}
