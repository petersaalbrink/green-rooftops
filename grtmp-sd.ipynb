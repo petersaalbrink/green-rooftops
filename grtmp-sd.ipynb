{
 "cells": [
  {
   "cell_type": "code",
   "execution_count": 1,
   "metadata": {},
   "outputs": [],
   "source": [
    "# Basis\n",
    "import numpy as np\n",
    "import pandas as pd\n",
    "from pandas import Series, DataFrame\n",
    "from math import floor, sqrt, pi\n",
    "from statistics import mean\n",
    "from glob import glob\n",
    "import random\n",
    "import warnings; warnings.filterwarnings('ignore')\n",
    "\n",
    "# Geo\n",
    "import geopandas as gp\n",
    "from geopandas import GeoDataFrame, GeoSeries, sjoin\n",
    "import shapely\n",
    "from shapely import wkt\n",
    "from shapely.geometry import Point, Polygon, MultiPolygon, LineString\n",
    "import shapely.speedups; shapely.speedups.enable()\n",
    "\n",
    "# Plot\n",
    "import matplotlib.pyplot as plt\n",
    "import matplotlib.patches as patches\n",
    "import matplotlib.colors\n",
    "import matplotlib.animation as animation\n",
    "import matplotlib.font_manager as font_manager\n",
    "osfont = font_manager.FontProperties(family='Open Sans', style='normal', size=60)"
   ]
  },
  {
   "cell_type": "code",
   "execution_count": 2,
   "metadata": {},
   "outputs": [],
   "source": [
    "# Definieer projecties\n",
    "crs = {'init': 'epsg:4326'}          # Standaard WGS84\n",
    "amersfoort = {'init': 'epsg:28992'}  # Rijkscoördinatendriehoek\n",
    "cea = {'proj':'cea'}                 # Equal area"
   ]
  },
  {
   "cell_type": "code",
   "execution_count": 3,
   "metadata": {},
   "outputs": [],
   "source": [
    "# Oppervlaktes van bomen (m²)\n",
    "kleine_boom = 10.5\n",
    "middel_boom = 14.3\n",
    "grote_boom = 18.7\n",
    "\n",
    "# Oppervlakte van een microbosje (4 bomen)\n",
    "tiny_forest_area = grote_boom * 4  # m²\n",
    "# tiny_forest_area = 280  # m²\n",
    "\n",
    "# Minimale afstand voor nieuwe bomen\n",
    "min_dist = 2.44  # m; dit is de minimale afstand tussen grote bomen\n",
    "gem_afstand_tot_rand = 0  # m; dit is de minimale afstand tot muren"
   ]
  },
  {
   "cell_type": "code",
   "execution_count": 88,
   "metadata": {},
   "outputs": [],
   "source": [
    "def to_crs(gdf, crs_out=amersfoort):\n",
    "    '''Returns a GeoDataFrame with coordinates projected as specified (default epsg:28992)'''\n",
    "    gdf = gdf.to_crs(crs_out)  # Use geopandas built-in method\n",
    "    gdf.crs = crs_out  # Set CRS property as well, just to be sure\n",
    "    return gdf\n",
    "\n",
    "def random_points_within(poly, k, min_dist=min_dist, gem_afstand_tot_rand=gem_afstand_tot_rand):\n",
    "    '''Returns a list of lists of k random Point objects that are within poly, seperated by at least min_dist'''\n",
    "    min_x, min_y, max_x, max_y = poly.bounds\n",
    "    points = []\n",
    "    i = 0\n",
    "    while len(points) < k:\n",
    "        i += 1\n",
    "        # Pak een random punt op de x-as, en vind en een random punt op de y-as dat in het polygoon ligt\n",
    "        try:\n",
    "            x = random.uniform(min_x, max_x)\n",
    "            x_line = LineString([(x, min_y), (x, max_y)])\n",
    "            x_line_intercept_min, x_line_intercept_max = x_line.intersection(poly).xy[1].tolist()\n",
    "            y = random.uniform(x_line_intercept_min, x_line_intercept_max)\n",
    "        except:\n",
    "            continue\n",
    "        point = Point([x, y])\n",
    "        # Controleer of de afstand van een nieuwe boom tot bestaande bomen kleiner is dan min_dist\n",
    "        # (Dit werkt nog niet goed wanneer min_dist te groot is)\n",
    "        dist = []\n",
    "        gdf = GeoDataFrame(points, crs=cea)\n",
    "        for ind in range(len(gdf)):\n",
    "            dist.append(gdf.iat[ind, 0].distance(point) < min_dist)  # bool\n",
    "        # Voeg de nieuwe boom toe, behalve als er een andere nieuwe boom dichterbij ligt dan min_dist\n",
    "        try:\n",
    "            if sum(dist) == 0 and poly.exterior.distance(point) < gem_afstand_tot_rand:\n",
    "                points.append(point)\n",
    "            elif i > k * 10:\n",
    "                return points\n",
    "            else:\n",
    "                continue\n",
    "        except:\n",
    "            if sum(dist) == 0:\n",
    "                points.append(point)\n",
    "            elif i > k * 10:\n",
    "                return points\n",
    "            else:\n",
    "                continue\n",
    "    return points\n",
    "\n",
    "def random_points(row, colname='nieuwe_bomen', min_dist=min_dist):\n",
    "    '''Returns a list of lists of random points, \n",
    "    based on a geometry and a value of nieuwe_bomen in a GeoDataFrame'''\n",
    "    points = random_points_within(row['geometry'], row[colname], min_dist=min_dist)\n",
    "    return points\n",
    "\n",
    "def plant_trees(gdf, colname='nieuwe_bomen', min_dist=min_dist):\n",
    "    '''Returns a GeoSeries (with epsg:28992) of random points within each geometry of a GeoDataFrame'''\n",
    "    # change gdf.crs to cea for equal area calculations \n",
    "    # get a list of lists of random points within gdf.geometry\n",
    "    # transform into a Series, then a GeoSeries, and change crs to epsg:28992\n",
    "    return to_crs(GeoSeries(pd.Series(to_crs(gdf, cea).apply(\n",
    "        random_points, colname=colname, min_dist=min_dist, axis=1)).apply(\n",
    "        lambda x: Series(x)).stack().tolist(), crs=cea), amersfoort)\n"
   ]
  },
  {
   "cell_type": "markdown",
   "metadata": {},
   "source": [
    "# Importeren"
   ]
  },
  {
   "cell_type": "code",
   "execution_count": 89,
   "metadata": {},
   "outputs": [],
   "source": [
    "gdf = pd.read_csv('final/gdf_final.csv', index_col=0)\n",
    "gdf = GeoDataFrame(gdf, crs=amersfoort, geometry=gdf.geometry.apply(wkt.loads))"
   ]
  },
  {
   "cell_type": "markdown",
   "metadata": {},
   "source": [
    "# Voor buurten"
   ]
  },
  {
   "cell_type": "code",
   "execution_count": 90,
   "metadata": {},
   "outputs": [
    {
     "name": "stdout",
     "output_type": "stream",
     "text": [
      "Teleport: 2210\n",
      "Zeeburgereiland Noordoost: 2189\n"
     ]
    },
    {
     "ename": "IndexError",
     "evalue": "list index out of range",
     "output_type": "error",
     "traceback": [
      "\u001b[1;31m---------------------------------------------------------------------------\u001b[0m",
      "\u001b[1;31mIndexError\u001b[0m                                Traceback (most recent call last)",
      "\u001b[1;32m<ipython-input-90-14014264b6ee>\u001b[0m in \u001b[0;36m<module>\u001b[1;34m\u001b[0m\n\u001b[0;32m      9\u001b[0m     \u001b[0mprint\u001b[0m\u001b[1;33m(\u001b[0m\u001b[1;34mf'{buurt}: {potential_trees_b.at[buurt, \"nieuwe_bomen\"]}'\u001b[0m\u001b[1;33m)\u001b[0m\u001b[1;33m\u001b[0m\u001b[1;33m\u001b[0m\u001b[0m\n\u001b[0;32m     10\u001b[0m     \u001b[0mgdf\u001b[0m \u001b[1;33m=\u001b[0m \u001b[0mgdf_all\u001b[0m\u001b[1;33m[\u001b[0m\u001b[0mgdf_all\u001b[0m\u001b[1;33m.\u001b[0m\u001b[0mBuurt\u001b[0m \u001b[1;33m==\u001b[0m \u001b[0mbuurt\u001b[0m\u001b[1;33m]\u001b[0m\u001b[1;33m.\u001b[0m\u001b[0mcopy\u001b[0m\u001b[1;33m(\u001b[0m\u001b[1;33m)\u001b[0m\u001b[1;33m\u001b[0m\u001b[1;33m\u001b[0m\u001b[0m\n\u001b[1;32m---> 11\u001b[1;33m     \u001b[0mpotential_trees_b\u001b[0m\u001b[1;33m.\u001b[0m\u001b[0mat\u001b[0m\u001b[1;33m[\u001b[0m\u001b[0mbuurt\u001b[0m\u001b[1;33m,\u001b[0m \u001b[1;34m'potential_trees'\u001b[0m\u001b[1;33m]\u001b[0m \u001b[1;33m=\u001b[0m \u001b[0mlen\u001b[0m\u001b[1;33m(\u001b[0m\u001b[0mplant_trees\u001b[0m\u001b[1;33m(\u001b[0m\u001b[0mgdf\u001b[0m\u001b[1;33m,\u001b[0m \u001b[0mmin_dist\u001b[0m\u001b[1;33m=\u001b[0m\u001b[0mmin_dist\u001b[0m\u001b[1;33m)\u001b[0m\u001b[1;33m)\u001b[0m\u001b[1;33m\u001b[0m\u001b[1;33m\u001b[0m\u001b[0m\n\u001b[0m\u001b[0;32m     12\u001b[0m \u001b[1;33m\u001b[0m\u001b[0m\n\u001b[0;32m     13\u001b[0m \u001b[0mpotential_trees_b\u001b[0m\u001b[1;33m.\u001b[0m\u001b[0mreset_index\u001b[0m\u001b[1;33m(\u001b[0m\u001b[1;33m)\u001b[0m\u001b[1;33m.\u001b[0m\u001b[0mto_csv\u001b[0m\u001b[1;33m(\u001b[0m\u001b[1;34m'potential_trees_b.csv'\u001b[0m\u001b[1;33m,\u001b[0m \u001b[0mindex\u001b[0m\u001b[1;33m=\u001b[0m\u001b[1;32mFalse\u001b[0m\u001b[1;33m)\u001b[0m\u001b[1;33m\u001b[0m\u001b[1;33m\u001b[0m\u001b[0m\n",
      "\u001b[1;32m<ipython-input-88-75fe81183e8e>\u001b[0m in \u001b[0;36mplant_trees\u001b[1;34m(gdf, colname, min_dist)\u001b[0m\n\u001b[0;32m     57\u001b[0m     return to_crs(GeoSeries(pd.Series(to_crs(gdf, cea).apply(\n\u001b[0;32m     58\u001b[0m         random_points, colname=colname, min_dist=min_dist, axis=1)).apply(\n\u001b[1;32m---> 59\u001b[1;33m         lambda x: Series(x)).stack().tolist(), crs=cea), amersfoort)\n\u001b[0m",
      "\u001b[1;32m~\\Anaconda3\\lib\\site-packages\\pandas\\core\\frame.py\u001b[0m in \u001b[0;36mstack\u001b[1;34m(self, level, dropna)\u001b[0m\n\u001b[0;32m   5927\u001b[0m             \u001b[1;32mreturn\u001b[0m \u001b[0mstack_multiple\u001b[0m\u001b[1;33m(\u001b[0m\u001b[0mself\u001b[0m\u001b[1;33m,\u001b[0m \u001b[0mlevel\u001b[0m\u001b[1;33m,\u001b[0m \u001b[0mdropna\u001b[0m\u001b[1;33m=\u001b[0m\u001b[0mdropna\u001b[0m\u001b[1;33m)\u001b[0m\u001b[1;33m\u001b[0m\u001b[1;33m\u001b[0m\u001b[0m\n\u001b[0;32m   5928\u001b[0m         \u001b[1;32melse\u001b[0m\u001b[1;33m:\u001b[0m\u001b[1;33m\u001b[0m\u001b[1;33m\u001b[0m\u001b[0m\n\u001b[1;32m-> 5929\u001b[1;33m             \u001b[1;32mreturn\u001b[0m \u001b[0mstack\u001b[0m\u001b[1;33m(\u001b[0m\u001b[0mself\u001b[0m\u001b[1;33m,\u001b[0m \u001b[0mlevel\u001b[0m\u001b[1;33m,\u001b[0m \u001b[0mdropna\u001b[0m\u001b[1;33m=\u001b[0m\u001b[0mdropna\u001b[0m\u001b[1;33m)\u001b[0m\u001b[1;33m\u001b[0m\u001b[1;33m\u001b[0m\u001b[0m\n\u001b[0m\u001b[0;32m   5930\u001b[0m \u001b[1;33m\u001b[0m\u001b[0m\n\u001b[0;32m   5931\u001b[0m     \u001b[1;32mdef\u001b[0m \u001b[0munstack\u001b[0m\u001b[1;33m(\u001b[0m\u001b[0mself\u001b[0m\u001b[1;33m,\u001b[0m \u001b[0mlevel\u001b[0m\u001b[1;33m=\u001b[0m\u001b[1;33m-\u001b[0m\u001b[1;36m1\u001b[0m\u001b[1;33m,\u001b[0m \u001b[0mfill_value\u001b[0m\u001b[1;33m=\u001b[0m\u001b[1;32mNone\u001b[0m\u001b[1;33m)\u001b[0m\u001b[1;33m:\u001b[0m\u001b[1;33m\u001b[0m\u001b[1;33m\u001b[0m\u001b[0m\n",
      "\u001b[1;32m~\\Anaconda3\\lib\\site-packages\\pandas\\core\\reshape\\reshape.py\u001b[0m in \u001b[0;36mstack\u001b[1;34m(frame, level, dropna)\u001b[0m\n\u001b[0;32m    505\u001b[0m         \u001b[1;31m# we concatenate instead.\u001b[0m\u001b[1;33m\u001b[0m\u001b[1;33m\u001b[0m\u001b[1;33m\u001b[0m\u001b[0m\n\u001b[0;32m    506\u001b[0m         \u001b[0mdtypes\u001b[0m \u001b[1;33m=\u001b[0m \u001b[0mlist\u001b[0m\u001b[1;33m(\u001b[0m\u001b[0mframe\u001b[0m\u001b[1;33m.\u001b[0m\u001b[0mdtypes\u001b[0m\u001b[1;33m.\u001b[0m\u001b[0mvalues\u001b[0m\u001b[1;33m)\u001b[0m\u001b[1;33m\u001b[0m\u001b[1;33m\u001b[0m\u001b[0m\n\u001b[1;32m--> 507\u001b[1;33m         \u001b[0mdtype\u001b[0m \u001b[1;33m=\u001b[0m \u001b[0mdtypes\u001b[0m\u001b[1;33m[\u001b[0m\u001b[1;36m0\u001b[0m\u001b[1;33m]\u001b[0m\u001b[1;33m\u001b[0m\u001b[1;33m\u001b[0m\u001b[0m\n\u001b[0m\u001b[0;32m    508\u001b[0m \u001b[1;33m\u001b[0m\u001b[0m\n\u001b[0;32m    509\u001b[0m         \u001b[1;32mif\u001b[0m \u001b[0mis_extension_array_dtype\u001b[0m\u001b[1;33m(\u001b[0m\u001b[0mdtype\u001b[0m\u001b[1;33m)\u001b[0m\u001b[1;33m:\u001b[0m\u001b[1;33m\u001b[0m\u001b[1;33m\u001b[0m\u001b[0m\n",
      "\u001b[1;31mIndexError\u001b[0m: list index out of range"
     ]
    }
   ],
   "source": [
    "gdf_all = gdf.copy()\n",
    "del gdf\n",
    "\n",
    "potential_trees_b = gdf_all[['Buurt', 'ruimte', 'nieuwe_bomen']].groupby(\n",
    "    'Buurt').sum().sort_values('nieuwe_bomen', ascending=False).head(10).tail(5)\n",
    "potential_trees_b['potential_trees'] = np.nan\n",
    "\n",
    "for buurt in potential_trees_b.index.tolist():\n",
    "    print(f'{buurt}: {potential_trees_b.at[buurt, \"nieuwe_bomen\"]}')\n",
    "    gdf = gdf_all[gdf_all.Buurt == buurt].copy()\n",
    "    potential_trees_b.at[buurt, 'potential_trees'] = len(plant_trees(gdf, min_dist=min_dist))\n",
    "\n",
    "potential_trees_b.reset_index().to_csv('potential_trees_b.csv', index=False)\n",
    "\n",
    "gdf = gdf_all.copy()\n",
    "del gdf_all"
   ]
  },
  {
   "cell_type": "markdown",
   "metadata": {},
   "source": [
    "# Voor stadsdelen"
   ]
  },
  {
   "cell_type": "code",
   "execution_count": null,
   "metadata": {},
   "outputs": [],
   "source": [
    "gdf_all = gdf.copy()\n",
    "del gdf\n",
    "\n",
    "potential_trees_sd = gdf_all[['Stadsdeel', 'ruimte', 'nieuwe_bomen']].groupby('Stadsdeel').sum()\n",
    "potential_trees_sd['potential_trees'] = np.nan\n",
    "\n",
    "for stadsdeel in potential_trees_sd.index.tolist():\n",
    "    if stadsdeel == 'Westpoort':\n",
    "        potential_trees_sd.at[stadsdeel, 'potential_trees'] = 0\n",
    "    else:\n",
    "        gdf = gdf_all[gdf_all.Stadsdeel == stadsdeel].copy()\n",
    "        potential_trees_sd.at[stadsdeel, 'potential_trees'] = len(plant_trees(gdf, min_dist=min_dist))\n",
    "\n",
    "potential_trees_sd.reset_index().to_csv('potential_trees_sd.csv', index=False)\n",
    "\n",
    "gdf = gdf_all.copy()\n",
    "del gdf_all"
   ]
  }
 ],
 "metadata": {
  "kernelspec": {
   "display_name": "Python 3",
   "language": "python",
   "name": "python3"
  },
  "language_info": {
   "codemirror_mode": {
    "name": "ipython",
    "version": 3
   },
   "file_extension": ".py",
   "mimetype": "text/x-python",
   "name": "python",
   "nbconvert_exporter": "python",
   "pygments_lexer": "ipython3",
   "version": "3.7.1"
  }
 },
 "nbformat": 4,
 "nbformat_minor": 2
}
